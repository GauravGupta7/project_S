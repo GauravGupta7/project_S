{
  "nbformat": 4,
  "nbformat_minor": 0,
  "metadata": {
    "colab": {
      "name": "Linear_regression_using_builtins.ipynb",
      "provenance": [],
      "collapsed_sections": [],
      "authorship_tag": "ABX9TyMRvnLGTfb+56AKmH5gljBR",
      "include_colab_link": true
    },
    "kernelspec": {
      "name": "python3",
      "display_name": "Python 3"
    }
  },
  "cells": [
    {
      "cell_type": "markdown",
      "metadata": {
        "id": "view-in-github",
        "colab_type": "text"
      },
      "source": [
        "<a href=\"https://colab.research.google.com/github/GauravGupta7/project_S/blob/master/Linear_regression_using_pytorch_builtins.ipynb\" target=\"_parent\"><img src=\"https://colab.research.google.com/assets/colab-badge.svg\" alt=\"Open In Colab\"/></a>"
      ]
    },
    {
      "cell_type": "markdown",
      "metadata": {
        "id": "X73XrzWJtFBe"
      },
      "source": [
        "This model is built using pytorch built-ins. It implements the concept of Linear Regression. \r\n",
        "\r\n",
        "Refer : (https://jovian.ai/aakashns/02-linear-regression)"
      ]
    },
    {
      "cell_type": "markdown",
      "metadata": {
        "id": "4U-ClGIbtbHL"
      },
      "source": [
        "We are importing the torch.nn package which has built-ins for working with neural networks. "
      ]
    },
    {
      "cell_type": "code",
      "metadata": {
        "id": "dq6MG5j-tR2u"
      },
      "source": [
        "import numpy as np\r\n",
        "import torch\r\n",
        "import torch.nn as nn\r\n",
        "from torch.utils.data import TensorDataset\r\n",
        "from torch.utils.data import DataLoader\r\n",
        "import torch.nn.functional as F"
      ],
      "execution_count": 26,
      "outputs": []
    },
    {
      "cell_type": "code",
      "metadata": {
        "id": "uviBgsx8uE3x"
      },
      "source": [
        "#Setting up the input and target Matrices\r\n",
        "# Input (temp, rainfall, humidity)\r\n",
        "inputs = np.array([[73, 67, 43], \r\n",
        "                   [91, 88, 64], \r\n",
        "                   [87, 134, 58], \r\n",
        "                   [102, 43, 37], \r\n",
        "                   [69, 96, 70], \r\n",
        "                   [74, 66, 43], \r\n",
        "                   [91, 87, 65], \r\n",
        "                   [88, 134, 59], \r\n",
        "                   [101, 44, 37], \r\n",
        "                   [68, 96, 71], \r\n",
        "                   [73, 66, 44], \r\n",
        "                   [92, 87, 64], \r\n",
        "                   [87, 135, 57], \r\n",
        "                   [103, 43, 36], \r\n",
        "                   [68, 97, 70]], \r\n",
        "                  dtype='float32')\r\n",
        "\r\n",
        "# Targets (apples, oranges)\r\n",
        "targets = np.array([[56, 70], \r\n",
        "                    [81, 101], \r\n",
        "                    [119, 133], \r\n",
        "                    [22, 37], \r\n",
        "                    [103, 119],\r\n",
        "                    [57, 69], \r\n",
        "                    [80, 102], \r\n",
        "                    [118, 132], \r\n",
        "                    [21, 38], \r\n",
        "                    [104, 118], \r\n",
        "                    [57, 69], \r\n",
        "                    [82, 100], \r\n",
        "                    [118, 134], \r\n",
        "                    [20, 38], \r\n",
        "                    [102, 120]], \r\n",
        "                   dtype='float32')\r\n",
        "\r\n",
        "inputs = torch.from_numpy(inputs)\r\n",
        "targets = torch.from_numpy(targets)"
      ],
      "execution_count": 27,
      "outputs": []
    },
    {
      "cell_type": "code",
      "metadata": {
        "id": "dd0PKML6ug9J"
      },
      "source": [
        "# Define dataset\r\n",
        "train_ds = TensorDataset(inputs, targets)"
      ],
      "execution_count": 28,
      "outputs": []
    },
    {
      "cell_type": "code",
      "metadata": {
        "colab": {
          "base_uri": "https://localhost:8080/"
        },
        "id": "J5dtkVXg06Hz",
        "outputId": "164382c3-6de9-45dd-f985-5282f82e5948"
      },
      "source": [
        "# Define data loader\r\n",
        "batch_size = 5\r\n",
        "train_dl = DataLoader(train_ds, batch_size, shuffle=True)\r\n",
        "print(train_dl)"
      ],
      "execution_count": 29,
      "outputs": [
        {
          "output_type": "stream",
          "text": [
            "<torch.utils.data.dataloader.DataLoader object at 0x7f6160f68f28>\n"
          ],
          "name": "stdout"
        }
      ]
    },
    {
      "cell_type": "code",
      "metadata": {
        "colab": {
          "base_uri": "https://localhost:8080/"
        },
        "id": "yM9EyeSV1JRK",
        "outputId": "449e27e6-9885-4f9c-8e76-028da9493f6c"
      },
      "source": [
        "for xb, yb in train_dl:\r\n",
        "    print(xb)\r\n",
        "    print(yb)\r\n",
        "    break"
      ],
      "execution_count": 30,
      "outputs": [
        {
          "output_type": "stream",
          "text": [
            "tensor([[ 87., 134.,  58.],\n",
            "        [ 73.,  66.,  44.],\n",
            "        [ 91.,  87.,  65.],\n",
            "        [ 87., 135.,  57.],\n",
            "        [101.,  44.,  37.]])\n",
            "tensor([[119., 133.],\n",
            "        [ 57.,  69.],\n",
            "        [ 80., 102.],\n",
            "        [118., 134.],\n",
            "        [ 21.,  38.]])\n"
          ],
          "name": "stdout"
        }
      ]
    },
    {
      "cell_type": "code",
      "metadata": {
        "id": "ZlncWenX1M5x",
        "colab": {
          "base_uri": "https://localhost:8080/"
        },
        "outputId": "e28c1a94-8cfa-4961-ae5f-db3b5df81655"
      },
      "source": [
        "#Defining the model using \"nn.linear\" class\r\n",
        "model = nn.Linear(3, 2)\r\n",
        "print(model.weight)\r\n",
        "print(model.bias)"
      ],
      "execution_count": 31,
      "outputs": [
        {
          "output_type": "stream",
          "text": [
            "Parameter containing:\n",
            "tensor([[ 0.2308,  0.0957,  0.1389],\n",
            "        [ 0.2800, -0.1378, -0.2318]], requires_grad=True)\n",
            "Parameter containing:\n",
            "tensor([-0.2449,  0.5380], requires_grad=True)\n"
          ],
          "name": "stdout"
        }
      ]
    },
    {
      "cell_type": "markdown",
      "metadata": {
        "id": "XTV-7KwIJExI"
      },
      "source": [
        "Pytorch has a built in function '.parameters()' which returns all the weights and bias martices present in the model"
      ]
    },
    {
      "cell_type": "code",
      "metadata": {
        "colab": {
          "base_uri": "https://localhost:8080/"
        },
        "id": "yjcaTg4oI_3c",
        "outputId": "686daef4-39c3-4e84-d468-d591396f4c30"
      },
      "source": [
        "# Parameters\r\n",
        "list(model.parameters())"
      ],
      "execution_count": 32,
      "outputs": [
        {
          "output_type": "execute_result",
          "data": {
            "text/plain": [
              "[Parameter containing:\n",
              " tensor([[ 0.2308,  0.0957,  0.1389],\n",
              "         [ 0.2800, -0.1378, -0.2318]], requires_grad=True),\n",
              " Parameter containing:\n",
              " tensor([-0.2449,  0.5380], requires_grad=True)]"
            ]
          },
          "metadata": {
            "tags": []
          },
          "execution_count": 32
        }
      ]
    },
    {
      "cell_type": "code",
      "metadata": {
        "colab": {
          "base_uri": "https://localhost:8080/"
        },
        "id": "IIjq0CiHJoYx",
        "outputId": "54617ccd-0ddd-471b-8f9c-36dd5a13bbef"
      },
      "source": [
        "# Generate predictions\r\n",
        "preds = model(inputs)\r\n",
        "preds"
      ],
      "execution_count": 33,
      "outputs": [
        {
          "output_type": "execute_result",
          "data": {
            "text/plain": [
              "tensor([[ 28.9852,   1.7822],\n",
              "        [ 38.0658,  -0.9380],\n",
              "        [ 40.7097,  -7.0063],\n",
              "        [ 32.5477,  14.6008],\n",
              "        [ 34.5880,  -9.5916],\n",
              "        [ 29.1203,   2.2000],\n",
              "        [ 38.1091,  -1.0319],\n",
              "        [ 41.0794,  -6.9581],\n",
              "        [ 32.4126,  14.1830],\n",
              "        [ 34.4962, -10.1034],\n",
              "        [ 29.0285,   1.6882],\n",
              "        [ 38.2009,  -0.5201],\n",
              "        [ 40.6664,  -6.9124],\n",
              "        [ 32.6396,  15.1126],\n",
              "        [ 34.4529, -10.0095]], grad_fn=<AddmmBackward>)"
            ]
          },
          "metadata": {
            "tags": []
          },
          "execution_count": 33
        }
      ]
    },
    {
      "cell_type": "markdown",
      "metadata": {
        "id": "x8pVeiPgKL1o"
      },
      "source": [
        "**LOSS FUNCTION:**\r\n",
        "Instead of defining a loss function manually, we use built ins to do the part. The function used is mse_loss "
      ]
    },
    {
      "cell_type": "code",
      "metadata": {
        "id": "DqcS0ZGyKKR2"
      },
      "source": [
        "# Define loss function\r\n",
        "loss_fn = F.mse_loss"
      ],
      "execution_count": 34,
      "outputs": []
    },
    {
      "cell_type": "markdown",
      "metadata": {
        "id": "LLTI6GeNLD6_"
      },
      "source": [
        "Computing the loss for current prediction"
      ]
    },
    {
      "cell_type": "code",
      "metadata": {
        "colab": {
          "base_uri": "https://localhost:8080/"
        },
        "id": "qaxOFn3-LDnR",
        "outputId": "9d3b8c2d-db54-4727-bb17-adf6a5956d9b"
      },
      "source": [
        "loss = loss_fn(model(inputs), targets)\r\n",
        "print(loss)"
      ],
      "execution_count": 35,
      "outputs": [
        {
          "output_type": "stream",
          "text": [
            "tensor(6509.1504, grad_fn=<MseLossBackward>)\n"
          ],
          "name": "stdout"
        }
      ]
    },
    {
      "cell_type": "markdown",
      "metadata": {
        "id": "VqfuXgF2L61o"
      },
      "source": [
        "**Optimizer:** Instead of manually working upon the bias we use optim.SGD optimizer of pytorch. SGD stands for stochastic gradient descent. The term stochastic means that the samples are selected in random batches instead of as a single group. The model.parameters() is passed as an argument to optim.SGD so that the optimizer knows which matrices should be modified during the update step. We can specify a learning rate that controls the amount by which the parameters are modified."
      ]
    },
    {
      "cell_type": "code",
      "metadata": {
        "id": "QXktUEg6L6mA"
      },
      "source": [
        "# Define optimizer\r\n",
        "opt = torch.optim.SGD(model.parameters(), lr=1e-5)"
      ],
      "execution_count": 36,
      "outputs": []
    },
    {
      "cell_type": "markdown",
      "metadata": {
        "id": "cL3KUCkqOZ4Z"
      },
      "source": [
        "**Training The Model-**\r\n",
        "\r\n",
        "Here we define a utility function 'fit' that trains the model for a given number of epochs.\r\n",
        "\r\n",
        "Some things to note above:\r\n",
        "\r\n",
        "1. We use the data loader defined earlier to get batches of data for every iteration.\r\n",
        "\r\n",
        "2. Instead of updating parameters (weights and biases) manually, we use opt.step to perform the update and opt.zero_grad to reset the gradients to zero.\r\n",
        "\r\n",
        "3. We've also added a log statement that prints the loss from the last batch of data for every 10th epoch to track training progress. loss.item returns the actual value stored in the loss tensor."
      ]
    },
    {
      "cell_type": "code",
      "metadata": {
        "id": "s33Gy8GRO1_O"
      },
      "source": [
        "# Utility function to train the model\r\n",
        "def fit(num_epochs, model, loss_fn, opt, train_dl):\r\n",
        "    \r\n",
        "    # Repeat for given number of epochs\r\n",
        "    for epoch in range(num_epochs):\r\n",
        "        \r\n",
        "        # Train with batches of data\r\n",
        "        for xb,yb in train_dl:\r\n",
        "            \r\n",
        "            # 1. Generate predictions\r\n",
        "            pred = model(xb)\r\n",
        "            \r\n",
        "            # 2. Calculate loss\r\n",
        "            loss = loss_fn(pred, yb)\r\n",
        "            \r\n",
        "            # 3. Compute gradients\r\n",
        "            loss.backward()\r\n",
        "            \r\n",
        "            # 4. Update parameters using gradients\r\n",
        "            opt.step()\r\n",
        "            \r\n",
        "            # 5. Reset the gradients to zero\r\n",
        "            opt.zero_grad()\r\n",
        "        \r\n",
        "        # Print the progress\r\n",
        "        if (epoch+1) % 10 == 0:\r\n",
        "            print('Epoch [{}/{}], Loss: {:.4f}'.format(epoch+1, num_epochs, loss.item()))"
      ],
      "execution_count": 37,
      "outputs": []
    },
    {
      "cell_type": "code",
      "metadata": {
        "colab": {
          "base_uri": "https://localhost:8080/"
        },
        "id": "2behEd-SQXO9",
        "outputId": "2d6b8932-143e-481c-ec87-cad29c448359"
      },
      "source": [
        "#Train the model for 100 epochs\r\n",
        "fit(100, model, loss_fn, opt, train_dl)"
      ],
      "execution_count": 38,
      "outputs": [
        {
          "output_type": "stream",
          "text": [
            "Epoch [10/100], Loss: 596.2767\n",
            "Epoch [20/100], Loss: 312.3689\n",
            "Epoch [30/100], Loss: 263.3254\n",
            "Epoch [40/100], Loss: 88.4079\n",
            "Epoch [50/100], Loss: 175.3555\n",
            "Epoch [60/100], Loss: 9.8580\n",
            "Epoch [70/100], Loss: 119.2938\n",
            "Epoch [80/100], Loss: 27.4209\n",
            "Epoch [90/100], Loss: 28.7920\n",
            "Epoch [100/100], Loss: 33.1440\n"
          ],
          "name": "stdout"
        }
      ]
    },
    {
      "cell_type": "code",
      "metadata": {
        "colab": {
          "base_uri": "https://localhost:8080/"
        },
        "id": "QkXFKpu9RiEg",
        "outputId": "425e03f7-8d1c-44cd-da49-a65cf9d9ef84"
      },
      "source": [
        "#After training again generate predictions:\r\n",
        "preds = model(inputs)\r\n",
        "print(loss_fn(preds, targets))"
      ],
      "execution_count": 39,
      "outputs": [
        {
          "output_type": "stream",
          "text": [
            "tensor(37.2483, grad_fn=<MseLossBackward>)\n"
          ],
          "name": "stdout"
        }
      ]
    },
    {
      "cell_type": "code",
      "metadata": {
        "colab": {
          "base_uri": "https://localhost:8080/"
        },
        "id": "dHzrYFKmSCYu",
        "outputId": "44087246-5290-4d0f-f648-fd2d954010dc"
      },
      "source": [
        "#To predict for a single data:\r\n",
        "model(torch.tensor([[75, 63, 44.]]))"
      ],
      "execution_count": 40,
      "outputs": [
        {
          "output_type": "execute_result",
          "data": {
            "text/plain": [
              "tensor([[54.8890, 68.9377]], grad_fn=<AddmmBackward>)"
            ]
          },
          "metadata": {
            "tags": []
          },
          "execution_count": 40
        }
      ]
    }
  ]
}