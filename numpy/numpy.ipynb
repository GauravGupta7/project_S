{
  "nbformat": 4,
  "nbformat_minor": 0,
  "metadata": {
    "colab": {
      "name": "numpy.ipynb",
      "provenance": [],
      "collapsed_sections": [],
      "authorship_tag": "ABX9TyM1JYvMXECmE9U2xG44jFha",
      "include_colab_link": true
    },
    "kernelspec": {
      "name": "python3",
      "display_name": "Python 3"
    },
    "language_info": {
      "name": "python"
    }
  },
  "cells": [
    {
      "cell_type": "markdown",
      "metadata": {
        "id": "view-in-github",
        "colab_type": "text"
      },
      "source": [
        "<a href=\"https://colab.research.google.com/github/GauravGupta7/project_S/blob/master/numpy/numpy.ipynb\" target=\"_parent\"><img src=\"https://colab.research.google.com/assets/colab-badge.svg\" alt=\"Open In Colab\"/></a>"
      ]
    },
    {
      "cell_type": "markdown",
      "metadata": {
        "id": "Ll_mxeKcFB7Y"
      },
      "source": [
        "This is the code as taught in : https://www.youtube.com/watch?v=8Y0qQEh7dJg"
      ]
    },
    {
      "cell_type": "code",
      "metadata": {
        "id": "c1EdT15rGZvA"
      },
      "source": [
        "import numpy as np\n",
        "import matplotlib.pylab as plt\n",
        "from numpy import random"
      ],
      "execution_count": 1,
      "outputs": []
    },
    {
      "cell_type": "markdown",
      "metadata": {
        "id": "Trp3MdtrO-wC"
      },
      "source": [
        "**ARRAYS IN NUMPY**"
      ]
    },
    {
      "cell_type": "code",
      "metadata": {
        "id": "97TokMRzG0bD",
        "colab": {
          "base_uri": "https://localhost:8080/"
        },
        "outputId": "6901f856-587d-44e8-862d-dd08cbd20af3"
      },
      "source": [
        "#creating a single dimensional numpy array from python list:\n",
        "list1 = [1,2,3,4,5]\n",
        "np_array1 = np.array(list1, dtype = np.int8)\n",
        "np_array1"
      ],
      "execution_count": 2,
      "outputs": [
        {
          "output_type": "execute_result",
          "data": {
            "text/plain": [
              "array([1, 2, 3, 4, 5], dtype=int8)"
            ]
          },
          "metadata": {
            "tags": []
          },
          "execution_count": 2
        }
      ]
    },
    {
      "cell_type": "code",
      "metadata": {
        "id": "tI4PT1FFHRbY",
        "colab": {
          "base_uri": "https://localhost:8080/"
        },
        "outputId": "f5df6948-8dca-45a0-fec9-a6286755aba0"
      },
      "source": [
        "#creating a multi dimensional numpy array from multi dimensional python list:\n",
        "list2 = [[1,2,3], [4,5,6], [7,8,9]]\n",
        "np_array2 = np.array(list2, dtype = np.int8)\n",
        "np_array2"
      ],
      "execution_count": 3,
      "outputs": [
        {
          "output_type": "execute_result",
          "data": {
            "text/plain": [
              "array([[1, 2, 3],\n",
              "       [4, 5, 6],\n",
              "       [7, 8, 9]], dtype=int8)"
            ]
          },
          "metadata": {
            "tags": []
          },
          "execution_count": 3
        }
      ]
    },
    {
      "cell_type": "code",
      "metadata": {
        "id": "DJLOE0SsJ54q",
        "colab": {
          "base_uri": "https://localhost:8080/"
        },
        "outputId": "b6b50b8e-b92b-490a-b38b-eae243b0104c"
      },
      "source": [
        "#creating a numpy array in a range:\n",
        "array1 = np.arange(1, 10)\n",
        "print(array1)\n",
        "\n",
        "#creating a numpy array in a range with 2 steps:\n",
        "array2 = np.arange(1, 10, 2)\n",
        "print(array2)\n",
        "\n",
        "#use of linspace:\n",
        "array3 = np.linspace(0, 5, 5)\n",
        "print(array3)\n",
        "\n",
        "#using the random function:\n",
        "array4 = np.random.randint(10, 50, size=(2,3))\n",
        "print(array4)"
      ],
      "execution_count": 4,
      "outputs": [
        {
          "output_type": "stream",
          "text": [
            "[1 2 3 4 5 6 7 8 9]\n",
            "[1 3 5 7 9]\n",
            "[0.   1.25 2.5  3.75 5.  ]\n",
            "[[22 33 35]\n",
            " [17 45 24]]\n"
          ],
          "name": "stdout"
        }
      ]
    },
    {
      "cell_type": "markdown",
      "metadata": {
        "id": "vFTgPRNCOziH"
      },
      "source": [
        "**SLICING & INDEXING OF NUMPY ARRAYS**\n"
      ]
    },
    {
      "cell_type": "code",
      "metadata": {
        "colab": {
          "base_uri": "https://localhost:8080/"
        },
        "id": "4BLm41bIO8Ns",
        "outputId": "5421e8c7-e267-4372-8d82-5fdc310dbf02"
      },
      "source": [
        "#Changing the value at a particular index:\n",
        "print(\"np_array2:\\n\", np_array2)\n",
        "np_array2[0, 0] = 2\n",
        "print(np_array2)"
      ],
      "execution_count": 5,
      "outputs": [
        {
          "output_type": "stream",
          "text": [
            "np_array2:\n",
            " [[1 2 3]\n",
            " [4 5 6]\n",
            " [7 8 9]]\n",
            "[[2 2 3]\n",
            " [4 5 6]\n",
            " [7 8 9]]\n"
          ],
          "name": "stdout"
        }
      ]
    },
    {
      "cell_type": "code",
      "metadata": {
        "colab": {
          "base_uri": "https://localhost:8080/"
        },
        "id": "x-hNDDswbr08",
        "outputId": "754d17bc-d6b7-412c-bb75-3f25a2c264c0"
      },
      "source": [
        "#another technique for the above:\n",
        "np_array2.itemset((0, 2), 2)\n",
        "print(np_array2)"
      ],
      "execution_count": 6,
      "outputs": [
        {
          "output_type": "stream",
          "text": [
            "[[2 2 2]\n",
            " [4 5 6]\n",
            " [7 8 9]]\n"
          ],
          "name": "stdout"
        }
      ]
    },
    {
      "cell_type": "code",
      "metadata": {
        "colab": {
          "base_uri": "https://localhost:8080/"
        },
        "id": "P3c_b77Pc2Jl",
        "outputId": "2beaae79-d799-4166-9f2f-d8e4786fb99e"
      },
      "source": [
        "#addressing specific location/rows/columns of numpy arrays\n",
        "print(np_array2[0,1])\n",
        "print(np_array2[0])\n",
        "print(np_array2.item(0,1))\n",
        "print(np_array2.item(4))"
      ],
      "execution_count": 7,
      "outputs": [
        {
          "output_type": "stream",
          "text": [
            "2\n",
            "[2 2 2]\n",
            "2\n",
            "5\n"
          ],
          "name": "stdout"
        }
      ]
    },
    {
      "cell_type": "code",
      "metadata": {
        "colab": {
          "base_uri": "https://localhost:8080/"
        },
        "id": "Am-l3Qrwe0Wl",
        "outputId": "73d3d470-1abf-4122-de77-6f75da90b8b7"
      },
      "source": [
        "print(\"np_array2\\n\", np_array2)\n",
        "a = np.take(np_array2, [0, 3, 6])\n",
        "print(a)"
      ],
      "execution_count": 8,
      "outputs": [
        {
          "output_type": "stream",
          "text": [
            "np_array2\n",
            " [[2 2 2]\n",
            " [4 5 6]\n",
            " [7 8 9]]\n",
            "[2 4 7]\n"
          ],
          "name": "stdout"
        }
      ]
    },
    {
      "cell_type": "code",
      "metadata": {
        "colab": {
          "base_uri": "https://localhost:8080/"
        },
        "id": "9RpXW4WagwOM",
        "outputId": "2b4f485e-b1ad-4632-8e19-0ba57a8c3a6d"
      },
      "source": [
        "#to update multiple values at once:\n",
        "print(\"np_array2\\n\", np_array2)\n",
        "np.put(np_array2, [1, 4, 7], [10, 10 ,10])\n",
        "print(\"np_array2\\n\", np_array2)"
      ],
      "execution_count": 9,
      "outputs": [
        {
          "output_type": "stream",
          "text": [
            "np_array2\n",
            " [[2 2 2]\n",
            " [4 5 6]\n",
            " [7 8 9]]\n",
            "np_array2\n",
            " [[ 2 10  2]\n",
            " [ 4 10  6]\n",
            " [ 7 10  9]]\n"
          ],
          "name": "stdout"
        }
      ]
    },
    {
      "cell_type": "code",
      "metadata": {
        "colab": {
          "base_uri": "https://localhost:8080/"
        },
        "id": "kqC9U2-IizSD",
        "outputId": "9b3f4ae6-c0ee-49ec-d693-5eb4bf00798d"
      },
      "source": [
        "#to get one column(for example, here we print second column of np_array2):\n",
        "print(\"np_array2:\\n\", np_array2)\n",
        "print(\"Second column of np_array2:\\n\", np_array2[:, 1])"
      ],
      "execution_count": 10,
      "outputs": [
        {
          "output_type": "stream",
          "text": [
            "np_array2:\n",
            " [[ 2 10  2]\n",
            " [ 4 10  6]\n",
            " [ 7 10  9]]\n",
            "Second column of np_array2:\n",
            " [10 10 10]\n"
          ],
          "name": "stdout"
        }
      ]
    },
    {
      "cell_type": "code",
      "metadata": {
        "colab": {
          "base_uri": "https://localhost:8080/"
        },
        "id": "RYAmCaqWjcQ9",
        "outputId": "e75a1020-d16f-4776-d005-d582e4fba62a"
      },
      "source": [
        "#to get one row(for example, here we try to get the third row of np_array2):\n",
        "print(\"np_array2:\\n\", np_array2)\n",
        "print(\"Third row of np_array2:\\n\", np_array2[2, :])"
      ],
      "execution_count": 11,
      "outputs": [
        {
          "output_type": "stream",
          "text": [
            "np_array2:\n",
            " [[ 2 10  2]\n",
            " [ 4 10  6]\n",
            " [ 7 10  9]]\n",
            "Third row of np_array2:\n",
            " [ 7 10  9]\n"
          ],
          "name": "stdout"
        }
      ]
    },
    {
      "cell_type": "code",
      "metadata": {
        "colab": {
          "base_uri": "https://localhost:8080/"
        },
        "id": "ur5QY0f8j-nA",
        "outputId": "4159a336-842c-425f-950f-bbfaf1903e1e"
      },
      "source": [
        "#to print the np_array2 upside down (Water Image):\n",
        "print(\"np_array2:\\n\", np_array2)\n",
        "print(\"-------------\\n\", np_array2[::-1])"
      ],
      "execution_count": 12,
      "outputs": [
        {
          "output_type": "stream",
          "text": [
            "np_array2:\n",
            " [[ 2 10  2]\n",
            " [ 4 10  6]\n",
            " [ 7 10  9]]\n",
            "-------------\n",
            " [[ 7 10  9]\n",
            " [ 4 10  6]\n",
            " [ 2 10  2]]\n"
          ],
          "name": "stdout"
        }
      ]
    },
    {
      "cell_type": "code",
      "metadata": {
        "colab": {
          "base_uri": "https://localhost:8080/"
        },
        "id": "aL1bTS33k1Pt",
        "outputId": "e78a3ab8-80b0-4d0a-9eb8-5da958e6392f"
      },
      "source": [
        "#to print only the even element of the array:\n",
        "print(\"np_array2:\\n\", np_array2)\n",
        "print(\"-------------\\n\")\n",
        "evens = np_array2[np_array2 % 2 == 0]\n",
        "print(\"The even elements of the array are:\", evens)"
      ],
      "execution_count": 13,
      "outputs": [
        {
          "output_type": "stream",
          "text": [
            "np_array2:\n",
            " [[ 2 10  2]\n",
            " [ 4 10  6]\n",
            " [ 7 10  9]]\n",
            "-------------\n",
            "\n",
            "The even elements of the array are: [ 2 10  2  4 10  6 10]\n"
          ],
          "name": "stdout"
        }
      ]
    },
    {
      "cell_type": "code",
      "metadata": {
        "colab": {
          "base_uri": "https://localhost:8080/"
        },
        "id": "0Cbju8BnmCBg",
        "outputId": "4c624c52-c9d9-4d94-a542-e20c0d66258e"
      },
      "source": [
        "#to print elements of the array using certain conditions:\n",
        "print(\"np_array2:\\n\", np_array2)\n",
        "cond1 = np_array2[np_array2 > 5]\n",
        "print(\"Elements of the array greater than 5 are: \", cond1)\n",
        "cond2 = np_array2[(np_array2 > 5) & (np_array2 < 9)]\n",
        "print(\"Elements of the array greater than 5 and less than 9 are:\", cond2)"
      ],
      "execution_count": 14,
      "outputs": [
        {
          "output_type": "stream",
          "text": [
            "np_array2:\n",
            " [[ 2 10  2]\n",
            " [ 4 10  6]\n",
            " [ 7 10  9]]\n",
            "Elements of the array greater than 5 are:  [10 10  6  7 10  9]\n",
            "Elements of the array greater than 5 and less than 9 are: [6 7]\n"
          ],
          "name": "stdout"
        }
      ]
    },
    {
      "cell_type": "code",
      "metadata": {
        "colab": {
          "base_uri": "https://localhost:8080/"
        },
        "id": "aQXC67MGp60j",
        "outputId": "46c00e0a-2bcd-4048-df49-b1d3b269b25f"
      },
      "source": [
        "#to get the unique elements of numpy array:\n",
        "print(\"np_array2:\\n\", np_array2)\n",
        "u_elements = np.unique(np_array2)\n",
        "print(\"The elemnts in the np_array2 are:\\n\", u_elements)"
      ],
      "execution_count": 15,
      "outputs": [
        {
          "output_type": "stream",
          "text": [
            "np_array2:\n",
            " [[ 2 10  2]\n",
            " [ 4 10  6]\n",
            " [ 7 10  9]]\n",
            "The elemnts in the np_array2 are:\n",
            " [ 2  4  6  7  9 10]\n"
          ],
          "name": "stdout"
        }
      ]
    },
    {
      "cell_type": "markdown",
      "metadata": {
        "id": "2Bf2DA5rAFGn"
      },
      "source": [
        "**RESHAPING NUMPY ARRAYS**"
      ]
    },
    {
      "cell_type": "code",
      "metadata": {
        "colab": {
          "base_uri": "https://localhost:8080/"
        },
        "id": "QehIlyUBAOCt",
        "outputId": "cd5fe0e4-fedb-4468-a975-50e89b5cca8c"
      },
      "source": [
        "#The reshape() function\n",
        "print(\"np_array2:\\n\", np_array2)\n",
        "np_array2.reshape((1, 9))\n",
        "print(\"The reshaped array is:\", np_array2.reshape(1,9))"
      ],
      "execution_count": 16,
      "outputs": [
        {
          "output_type": "stream",
          "text": [
            "np_array2:\n",
            " [[ 2 10  2]\n",
            " [ 4 10  6]\n",
            " [ 7 10  9]]\n",
            "The reshaped array is: [[ 2 10  2  4 10  6  7 10  9]]\n"
          ],
          "name": "stdout"
        }
      ]
    },
    {
      "cell_type": "code",
      "metadata": {
        "colab": {
          "base_uri": "https://localhost:8080/"
        },
        "id": "M82lwrwtBMmO",
        "outputId": "324dda3b-14c3-4ae7-8f4b-b20afe1e7083"
      },
      "source": [
        "#The resize function:\n",
        "print(\"np_array2:\\n\", np_array2)\n",
        "print(\"The resized array is:\\n\", np.resize(np_array2, (2, 5)))"
      ],
      "execution_count": 17,
      "outputs": [
        {
          "output_type": "stream",
          "text": [
            "np_array2:\n",
            " [[ 2 10  2]\n",
            " [ 4 10  6]\n",
            " [ 7 10  9]]\n",
            "The resized array is:\n",
            " [[ 2 10  2  4 10]\n",
            " [ 6  7 10  9  2]]\n"
          ],
          "name": "stdout"
        }
      ]
    },
    {
      "cell_type": "code",
      "metadata": {
        "colab": {
          "base_uri": "https://localhost:8080/"
        },
        "id": "n_mLxDCaB5ln",
        "outputId": "dc93bbea-b888-4b40-9167-1bcb0f079093"
      },
      "source": [
        "#Transpose of an array:\n",
        "print(\"np_array2:\\n\", np_array2)\n",
        "print(\"The transpose of the array is:\\n\", np_array2.transpose())\n",
        "\n",
        "#The swapaxes() functiom:\n",
        "print(\"np_array2:\\n\", np_array2)\n",
        "print(\"After swapping axes:\\n\", np_array2.swapaxes(0,1))"
      ],
      "execution_count": 18,
      "outputs": [
        {
          "output_type": "stream",
          "text": [
            "np_array2:\n",
            " [[ 2 10  2]\n",
            " [ 4 10  6]\n",
            " [ 7 10  9]]\n",
            "The transpose of the array is:\n",
            " [[ 2  4  7]\n",
            " [10 10 10]\n",
            " [ 2  6  9]]\n",
            "np_array2:\n",
            " [[ 2 10  2]\n",
            " [ 4 10  6]\n",
            " [ 7 10  9]]\n",
            "After swapping axes:\n",
            " [[ 2  4  7]\n",
            " [10 10 10]\n",
            " [ 2  6  9]]\n"
          ],
          "name": "stdout"
        }
      ]
    },
    {
      "cell_type": "code",
      "metadata": {
        "colab": {
          "base_uri": "https://localhost:8080/"
        },
        "id": "LtOvSKRgDaRF",
        "outputId": "6e5f1b20-e2cd-40e1-8522-daef9c2b868f"
      },
      "source": [
        "#The flatten() function:\n",
        "print(\"np_array2:\\n\", np_array2)\n",
        "print(\"The flattened array is:\\n\", np_array2.flatten())\n",
        "\n",
        "print(\"np_array2:\\n\", np_array2)\n",
        "print(\"Flattened at column:\\n\", np_array2.flatten('F'))"
      ],
      "execution_count": 19,
      "outputs": [
        {
          "output_type": "stream",
          "text": [
            "np_array2:\n",
            " [[ 2 10  2]\n",
            " [ 4 10  6]\n",
            " [ 7 10  9]]\n",
            "The flattened array is:\n",
            " [ 2 10  2  4 10  6  7 10  9]\n",
            "np_array2:\n",
            " [[ 2 10  2]\n",
            " [ 4 10  6]\n",
            " [ 7 10  9]]\n",
            "Flattened at column:\n",
            " [ 2  4  7 10 10 10  2  6  9]\n"
          ],
          "name": "stdout"
        }
      ]
    },
    {
      "cell_type": "code",
      "metadata": {
        "colab": {
          "base_uri": "https://localhost:8080/"
        },
        "id": "mDlH5T_MFrUe",
        "outputId": "d9997e28-3a02-49f7-cdc3-faf25d7d0665"
      },
      "source": [
        "#Sorting:\n",
        "print(\"np_array2:\\n\", np_array2)\n",
        "print(\"Sorted Row wise:\\n\", np.sort(np_array2, axis=0))\n",
        "\n",
        "print(\"np_array2:\\n\", np_array2)\n",
        "print(\"Sorted Column wise:\\n\", np.sort(np_array2, axis=1))"
      ],
      "execution_count": 20,
      "outputs": [
        {
          "output_type": "stream",
          "text": [
            "np_array2:\n",
            " [[ 2 10  2]\n",
            " [ 4 10  6]\n",
            " [ 7 10  9]]\n",
            "Sorted Row wise:\n",
            " [[ 2 10  2]\n",
            " [ 4 10  6]\n",
            " [ 7 10  9]]\n",
            "np_array2:\n",
            " [[ 2 10  2]\n",
            " [ 4 10  6]\n",
            " [ 7 10  9]]\n",
            "Sorted Column wise:\n",
            " [[ 2  2 10]\n",
            " [ 4  6 10]\n",
            " [ 7  9 10]]\n"
          ],
          "name": "stdout"
        }
      ]
    },
    {
      "cell_type": "markdown",
      "metadata": {
        "id": "CR1M8_xRGwy9"
      },
      "source": [
        "**STACKING AND SPLITTING ARRAYS**"
      ]
    },
    {
      "cell_type": "code",
      "metadata": {
        "id": "YEIkn8-KG3vR",
        "colab": {
          "base_uri": "https://localhost:8080/"
        },
        "outputId": "772d04a0-958b-46f6-fc35-6fc4ce26d195"
      },
      "source": [
        "ss_ar_1 = np.random.randint(10, size = (2,2))\n",
        "print(ss_ar_1, \"\\n\")\n",
        "ss_ar_2 = np.random.randint(10, size = (2,2))\n",
        "print(ss_ar_2, \"\\n\")\n",
        "\n",
        "hstack = np.hstack((ss_ar_1, ss_ar_2))\n",
        "print(hstack)\n",
        "\n",
        "v_stack = np.vstack((ss_ar_1, ss_ar_2))\n",
        "print(\"\\n\",  v_stack)"
      ],
      "execution_count": 21,
      "outputs": [
        {
          "output_type": "stream",
          "text": [
            "[[0 8]\n",
            " [8 9]] \n",
            "\n",
            "[[7 6]\n",
            " [2 1]] \n",
            "\n",
            "[[0 8 7 6]\n",
            " [8 9 2 1]]\n",
            "\n",
            " [[0 8]\n",
            " [8 9]\n",
            " [7 6]\n",
            " [2 1]]\n"
          ],
          "name": "stdout"
        }
      ]
    },
    {
      "cell_type": "code",
      "metadata": {
        "colab": {
          "base_uri": "https://localhost:8080/"
        },
        "id": "vSuQqV98kQ8a",
        "outputId": "cb47fb1b-d11f-41ca-b933-75724ff0bd5d"
      },
      "source": [
        "ss_ar_3 = np.delete(ss_ar_1, 1, 0)\n",
        "print(\"\\n\", ss_ar_3)"
      ],
      "execution_count": 22,
      "outputs": [
        {
          "output_type": "stream",
          "text": [
            "\n",
            " [[0 8]]\n"
          ],
          "name": "stdout"
        }
      ]
    },
    {
      "cell_type": "code",
      "metadata": {
        "colab": {
          "base_uri": "https://localhost:8080/"
        },
        "id": "goijx8_GoXO3",
        "outputId": "58155330-63f9-468c-bfd7-ec9311923fe7"
      },
      "source": [
        "print(np.column_stack((ss_ar_1, ss_ar_2)))\n",
        "print(np.row_stack((ss_ar_1, ss_ar_2)))"
      ],
      "execution_count": 23,
      "outputs": [
        {
          "output_type": "stream",
          "text": [
            "[[0 8 7 6]\n",
            " [8 9 2 1]]\n",
            "[[0 8]\n",
            " [8 9]\n",
            " [7 6]\n",
            " [2 1]]\n"
          ],
          "name": "stdout"
        }
      ]
    },
    {
      "cell_type": "code",
      "metadata": {
        "colab": {
          "base_uri": "https://localhost:8080/"
        },
        "id": "1sHL4e-PqyBr",
        "outputId": "c651c31a-9571-4bf3-a087-683452f91068"
      },
      "source": [
        "#Splitting\n",
        "ss_arr_5 = np.random.randint(10, size = (2, 10))\n",
        "print(ss_arr_5)\n",
        "np.hsplit(ss_arr_5, 5)"
      ],
      "execution_count": 24,
      "outputs": [
        {
          "output_type": "stream",
          "text": [
            "[[9 5 0 1 6 6 9 3 0 2]\n",
            " [1 6 1 9 1 9 6 4 0 7]]\n"
          ],
          "name": "stdout"
        },
        {
          "output_type": "execute_result",
          "data": {
            "text/plain": [
              "[array([[9, 5],\n",
              "        [1, 6]]), array([[0, 1],\n",
              "        [1, 9]]), array([[6, 6],\n",
              "        [1, 9]]), array([[9, 3],\n",
              "        [6, 4]]), array([[0, 2],\n",
              "        [0, 7]])]"
            ]
          },
          "metadata": {
            "tags": []
          },
          "execution_count": 24
        }
      ]
    }
  ]
}