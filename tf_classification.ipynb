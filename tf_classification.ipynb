{
  "nbformat": 4,
  "nbformat_minor": 0,
  "metadata": {
    "colab": {
      "name": "tf_classification.ipynb",
      "provenance": [],
      "authorship_tag": "ABX9TyPxMzb7c/z1tJge8oVcx+Tc",
      "include_colab_link": true
    },
    "kernelspec": {
      "name": "python3",
      "display_name": "Python 3"
    }
  },
  "cells": [
    {
      "cell_type": "markdown",
      "metadata": {
        "id": "view-in-github",
        "colab_type": "text"
      },
      "source": [
        "<a href=\"https://colab.research.google.com/github/GauravGupta7/project_S/blob/master/tf_classification.ipynb\" target=\"_parent\"><img src=\"https://colab.research.google.com/assets/colab-badge.svg\" alt=\"Open In Colab\"/></a>"
      ]
    },
    {
      "cell_type": "code",
      "metadata": {
        "id": "lku4_EzMo1G9"
      },
      "source": [
        "%tensorflow_version 2.x"
      ],
      "execution_count": 23,
      "outputs": []
    },
    {
      "cell_type": "code",
      "metadata": {
        "id": "1dLNZIU1pxjd"
      },
      "source": [
        "from __future__ import absolute_import, division, print_function, unicode_literals\r\n",
        "\r\n",
        "import tensorflow as tf\r\n",
        "\r\n",
        "import pandas as pd"
      ],
      "execution_count": 24,
      "outputs": []
    },
    {
      "cell_type": "code",
      "metadata": {
        "id": "Py7J_5CyuswV"
      },
      "source": [
        "CSV_COLUMN_NAMES = ['SepalLength', 'SepalWidth', 'PetalLength', 'PetalWidth', 'Species']\r\n",
        "SPECIES = ['Setosa', 'Versicolor', 'Virginica']"
      ],
      "execution_count": 25,
      "outputs": []
    },
    {
      "cell_type": "code",
      "metadata": {
        "id": "TMiLc6LPdoPm"
      },
      "source": [
        "train_path = tf.keras.utils.get_file(\n",
        "    \"iris_training.csv\", \"https://storage.googleapis.com/download.tensorflow.org/data/iris_training.csv\")\n",
        "test_path = tf.keras.utils.get_file(\n",
        "    \"iris_test.csv\", \"https://storage.googleapis.com/download.tensorflow.org/data/iris_test.csv\")\n",
        "\n",
        "train = pd.read_csv(train_path, names=CSV_COLUMN_NAMES, header=0)\n",
        "test = pd.read_csv(test_path, names=CSV_COLUMN_NAMES, header=0)"
      ],
      "execution_count": 26,
      "outputs": []
    },
    {
      "cell_type": "code",
      "metadata": {
        "colab": {
          "base_uri": "https://localhost:8080/",
          "height": 195
        },
        "id": "SClPzpX5xCv1",
        "outputId": "950d0b85-caee-45d3-cbba-a09d77ac67f7"
      },
      "source": [
        "train_y = train.pop('Species')\r\n",
        "test_y = test.pop('Species')\r\n",
        "train.head() # the species column is now gone"
      ],
      "execution_count": 27,
      "outputs": [
        {
          "output_type": "execute_result",
          "data": {
            "text/html": [
              "<div>\n",
              "<style scoped>\n",
              "    .dataframe tbody tr th:only-of-type {\n",
              "        vertical-align: middle;\n",
              "    }\n",
              "\n",
              "    .dataframe tbody tr th {\n",
              "        vertical-align: top;\n",
              "    }\n",
              "\n",
              "    .dataframe thead th {\n",
              "        text-align: right;\n",
              "    }\n",
              "</style>\n",
              "<table border=\"1\" class=\"dataframe\">\n",
              "  <thead>\n",
              "    <tr style=\"text-align: right;\">\n",
              "      <th></th>\n",
              "      <th>SepalLength</th>\n",
              "      <th>SepalWidth</th>\n",
              "      <th>PetalLength</th>\n",
              "      <th>PetalWidth</th>\n",
              "    </tr>\n",
              "  </thead>\n",
              "  <tbody>\n",
              "    <tr>\n",
              "      <th>0</th>\n",
              "      <td>6.4</td>\n",
              "      <td>2.8</td>\n",
              "      <td>5.6</td>\n",
              "      <td>2.2</td>\n",
              "    </tr>\n",
              "    <tr>\n",
              "      <th>1</th>\n",
              "      <td>5.0</td>\n",
              "      <td>2.3</td>\n",
              "      <td>3.3</td>\n",
              "      <td>1.0</td>\n",
              "    </tr>\n",
              "    <tr>\n",
              "      <th>2</th>\n",
              "      <td>4.9</td>\n",
              "      <td>2.5</td>\n",
              "      <td>4.5</td>\n",
              "      <td>1.7</td>\n",
              "    </tr>\n",
              "    <tr>\n",
              "      <th>3</th>\n",
              "      <td>4.9</td>\n",
              "      <td>3.1</td>\n",
              "      <td>1.5</td>\n",
              "      <td>0.1</td>\n",
              "    </tr>\n",
              "    <tr>\n",
              "      <th>4</th>\n",
              "      <td>5.7</td>\n",
              "      <td>3.8</td>\n",
              "      <td>1.7</td>\n",
              "      <td>0.3</td>\n",
              "    </tr>\n",
              "  </tbody>\n",
              "</table>\n",
              "</div>"
            ],
            "text/plain": [
              "   SepalLength  SepalWidth  PetalLength  PetalWidth\n",
              "0          6.4         2.8          5.6         2.2\n",
              "1          5.0         2.3          3.3         1.0\n",
              "2          4.9         2.5          4.5         1.7\n",
              "3          4.9         3.1          1.5         0.1\n",
              "4          5.7         3.8          1.7         0.3"
            ]
          },
          "metadata": {
            "tags": []
          },
          "execution_count": 27
        }
      ]
    },
    {
      "cell_type": "code",
      "metadata": {
        "colab": {
          "base_uri": "https://localhost:8080/"
        },
        "id": "aCTay-64yBcr",
        "outputId": "5b10a6ca-1964-4388-f5be-e1dda21e77dd"
      },
      "source": [
        "def input_fn(features, labels, training=True, batch_size=256):\r\n",
        "    dataset = tf.data.Dataset.from_tensor_slices((dict(features), labels))\r\n",
        "    if training:\r\n",
        "        dataset = dataset.shuffle(1000).repeat()\r\n",
        "    return dataset.batch(batch_size)\r\n",
        "\r\n",
        "# Feature columns describe how to use the input.\r\n",
        "my_feature_columns = []\r\n",
        "for key in train.keys():\r\n",
        "    my_feature_columns.append(tf.feature_column.numeric_column(key=key))\r\n",
        "\r\n",
        "# Build a DNN(Deep Neural Network) with 2 hidden layers with 30 and 10 hidden nodes each.\r\n",
        "classifier = tf.estimator.DNNClassifier(\r\n",
        "    feature_columns=my_feature_columns,\r\n",
        "    hidden_units=[30, 10],\r\n",
        "    n_classes=3)\r\n",
        "\r\n",
        "classifier.train(\r\n",
        "    input_fn=lambda: input_fn(train, train_y, training=True),\r\n",
        "    steps=5000)"
      ],
      "execution_count": 28,
      "outputs": [
        {
          "output_type": "stream",
          "text": [
            "INFO:tensorflow:Using default config.\n",
            "WARNING:tensorflow:Using temporary folder as model directory: /tmp/tmpmpu35t93\n",
            "INFO:tensorflow:Using config: {'_model_dir': '/tmp/tmpmpu35t93', '_tf_random_seed': None, '_save_summary_steps': 100, '_save_checkpoints_steps': None, '_save_checkpoints_secs': 600, '_session_config': allow_soft_placement: true\n",
            "graph_options {\n",
            "  rewrite_options {\n",
            "    meta_optimizer_iterations: ONE\n",
            "  }\n",
            "}\n",
            ", '_keep_checkpoint_max': 5, '_keep_checkpoint_every_n_hours': 10000, '_log_step_count_steps': 100, '_train_distribute': None, '_device_fn': None, '_protocol': None, '_eval_distribute': None, '_experimental_distribute': None, '_experimental_max_worker_delay_secs': None, '_session_creation_timeout_secs': 7200, '_checkpoint_save_graph_def': True, '_service': None, '_cluster_spec': ClusterSpec({}), '_task_type': 'worker', '_task_id': 0, '_global_id_in_cluster': 0, '_master': '', '_evaluation_master': '', '_is_chief': True, '_num_ps_replicas': 0, '_num_worker_replicas': 1}\n",
            "INFO:tensorflow:Calling model_fn.\n",
            "INFO:tensorflow:Done calling model_fn.\n",
            "INFO:tensorflow:Create CheckpointSaverHook.\n",
            "INFO:tensorflow:Graph was finalized.\n",
            "INFO:tensorflow:Running local_init_op.\n",
            "INFO:tensorflow:Done running local_init_op.\n",
            "INFO:tensorflow:Calling checkpoint listeners before saving checkpoint 0...\n",
            "INFO:tensorflow:Saving checkpoints for 0 into /tmp/tmpmpu35t93/model.ckpt.\n",
            "INFO:tensorflow:Calling checkpoint listeners after saving checkpoint 0...\n",
            "INFO:tensorflow:loss = 1.7943949, step = 0\n",
            "INFO:tensorflow:global_step/sec: 245.448\n",
            "INFO:tensorflow:loss = 1.1498148, step = 100 (0.410 sec)\n",
            "INFO:tensorflow:global_step/sec: 304.744\n",
            "INFO:tensorflow:loss = 1.1123955, step = 200 (0.328 sec)\n",
            "INFO:tensorflow:global_step/sec: 302.475\n",
            "INFO:tensorflow:loss = 1.0947187, step = 300 (0.331 sec)\n",
            "INFO:tensorflow:global_step/sec: 303.47\n",
            "INFO:tensorflow:loss = 1.0812697, step = 400 (0.333 sec)\n",
            "INFO:tensorflow:global_step/sec: 303.511\n",
            "INFO:tensorflow:loss = 1.0688907, step = 500 (0.329 sec)\n",
            "INFO:tensorflow:global_step/sec: 294.431\n",
            "INFO:tensorflow:loss = 1.0513685, step = 600 (0.338 sec)\n",
            "INFO:tensorflow:global_step/sec: 274.193\n",
            "INFO:tensorflow:loss = 1.034205, step = 700 (0.367 sec)\n",
            "INFO:tensorflow:global_step/sec: 291.67\n",
            "INFO:tensorflow:loss = 1.0389329, step = 800 (0.340 sec)\n",
            "INFO:tensorflow:global_step/sec: 302.915\n",
            "INFO:tensorflow:loss = 1.0229592, step = 900 (0.331 sec)\n",
            "INFO:tensorflow:global_step/sec: 296.377\n",
            "INFO:tensorflow:loss = 1.0120738, step = 1000 (0.336 sec)\n",
            "INFO:tensorflow:global_step/sec: 316.234\n",
            "INFO:tensorflow:loss = 1.0173978, step = 1100 (0.315 sec)\n",
            "INFO:tensorflow:global_step/sec: 302.85\n",
            "INFO:tensorflow:loss = 1.0028877, step = 1200 (0.330 sec)\n",
            "INFO:tensorflow:global_step/sec: 316.953\n",
            "INFO:tensorflow:loss = 0.9935012, step = 1300 (0.315 sec)\n",
            "INFO:tensorflow:global_step/sec: 334.032\n",
            "INFO:tensorflow:loss = 0.9812019, step = 1400 (0.299 sec)\n",
            "INFO:tensorflow:global_step/sec: 313.23\n",
            "INFO:tensorflow:loss = 0.987076, step = 1500 (0.319 sec)\n",
            "INFO:tensorflow:global_step/sec: 304.664\n",
            "INFO:tensorflow:loss = 0.96617424, step = 1600 (0.329 sec)\n",
            "INFO:tensorflow:global_step/sec: 304.575\n",
            "INFO:tensorflow:loss = 0.9616759, step = 1700 (0.331 sec)\n",
            "INFO:tensorflow:global_step/sec: 292.784\n",
            "INFO:tensorflow:loss = 0.95864105, step = 1800 (0.341 sec)\n",
            "INFO:tensorflow:global_step/sec: 303.399\n",
            "INFO:tensorflow:loss = 0.94612896, step = 1900 (0.326 sec)\n",
            "INFO:tensorflow:global_step/sec: 300.175\n",
            "INFO:tensorflow:loss = 0.957576, step = 2000 (0.338 sec)\n",
            "INFO:tensorflow:global_step/sec: 287.287\n",
            "INFO:tensorflow:loss = 0.94070613, step = 2100 (0.343 sec)\n",
            "INFO:tensorflow:global_step/sec: 299.622\n",
            "INFO:tensorflow:loss = 0.940539, step = 2200 (0.339 sec)\n",
            "INFO:tensorflow:global_step/sec: 318.416\n",
            "INFO:tensorflow:loss = 0.93528426, step = 2300 (0.309 sec)\n",
            "INFO:tensorflow:global_step/sec: 312.309\n",
            "INFO:tensorflow:loss = 0.92925805, step = 2400 (0.323 sec)\n",
            "INFO:tensorflow:global_step/sec: 331.197\n",
            "INFO:tensorflow:loss = 0.91522896, step = 2500 (0.299 sec)\n",
            "INFO:tensorflow:global_step/sec: 317.184\n",
            "INFO:tensorflow:loss = 0.9107671, step = 2600 (0.316 sec)\n",
            "INFO:tensorflow:global_step/sec: 354.039\n",
            "INFO:tensorflow:loss = 0.904895, step = 2700 (0.282 sec)\n",
            "INFO:tensorflow:global_step/sec: 317.86\n",
            "INFO:tensorflow:loss = 0.88824666, step = 2800 (0.315 sec)\n",
            "INFO:tensorflow:global_step/sec: 324.437\n",
            "INFO:tensorflow:loss = 0.893991, step = 2900 (0.308 sec)\n",
            "INFO:tensorflow:global_step/sec: 333.55\n",
            "INFO:tensorflow:loss = 0.8959395, step = 3000 (0.302 sec)\n",
            "INFO:tensorflow:global_step/sec: 347.243\n",
            "INFO:tensorflow:loss = 0.87563014, step = 3100 (0.287 sec)\n",
            "INFO:tensorflow:global_step/sec: 319.837\n",
            "INFO:tensorflow:loss = 0.876445, step = 3200 (0.312 sec)\n",
            "INFO:tensorflow:global_step/sec: 321.589\n",
            "INFO:tensorflow:loss = 0.86869675, step = 3300 (0.314 sec)\n",
            "INFO:tensorflow:global_step/sec: 331.458\n",
            "INFO:tensorflow:loss = 0.8738562, step = 3400 (0.300 sec)\n",
            "INFO:tensorflow:global_step/sec: 334.562\n",
            "INFO:tensorflow:loss = 0.86890006, step = 3500 (0.301 sec)\n",
            "INFO:tensorflow:global_step/sec: 325.706\n",
            "INFO:tensorflow:loss = 0.8500645, step = 3600 (0.304 sec)\n",
            "INFO:tensorflow:global_step/sec: 337.354\n",
            "INFO:tensorflow:loss = 0.8570217, step = 3700 (0.296 sec)\n",
            "INFO:tensorflow:global_step/sec: 325.681\n",
            "INFO:tensorflow:loss = 0.84005415, step = 3800 (0.308 sec)\n",
            "INFO:tensorflow:global_step/sec: 297.885\n",
            "INFO:tensorflow:loss = 0.8281728, step = 3900 (0.335 sec)\n",
            "INFO:tensorflow:global_step/sec: 351.756\n",
            "INFO:tensorflow:loss = 0.84144664, step = 4000 (0.284 sec)\n",
            "INFO:tensorflow:global_step/sec: 360.189\n",
            "INFO:tensorflow:loss = 0.805478, step = 4100 (0.281 sec)\n",
            "INFO:tensorflow:global_step/sec: 368.71\n",
            "INFO:tensorflow:loss = 0.8105084, step = 4200 (0.268 sec)\n",
            "INFO:tensorflow:global_step/sec: 333.807\n",
            "INFO:tensorflow:loss = 0.8223363, step = 4300 (0.300 sec)\n",
            "INFO:tensorflow:global_step/sec: 320.702\n",
            "INFO:tensorflow:loss = 0.7921524, step = 4400 (0.314 sec)\n",
            "INFO:tensorflow:global_step/sec: 341.283\n",
            "INFO:tensorflow:loss = 0.7896207, step = 4500 (0.291 sec)\n",
            "INFO:tensorflow:global_step/sec: 348.288\n",
            "INFO:tensorflow:loss = 0.7838718, step = 4600 (0.290 sec)\n",
            "INFO:tensorflow:global_step/sec: 356.733\n",
            "INFO:tensorflow:loss = 0.7917173, step = 4700 (0.281 sec)\n",
            "INFO:tensorflow:global_step/sec: 317.07\n",
            "INFO:tensorflow:loss = 0.7928059, step = 4800 (0.311 sec)\n",
            "WARNING:tensorflow:It seems that global step (tf.train.get_global_step) has not been increased. Current value (could be stable): 4888 vs previous value: 4888. You could increase the global step by passing tf.train.get_global_step() to Optimizer.apply_gradients or Optimizer.minimize.\n",
            "INFO:tensorflow:global_step/sec: 306.52\n",
            "INFO:tensorflow:loss = 0.7543499, step = 4900 (0.327 sec)\n",
            "INFO:tensorflow:Calling checkpoint listeners before saving checkpoint 5000...\n",
            "INFO:tensorflow:Saving checkpoints for 5000 into /tmp/tmpmpu35t93/model.ckpt.\n",
            "INFO:tensorflow:Calling checkpoint listeners after saving checkpoint 5000...\n",
            "INFO:tensorflow:Loss for final step: 0.76650816.\n"
          ],
          "name": "stdout"
        },
        {
          "output_type": "execute_result",
          "data": {
            "text/plain": [
              "<tensorflow_estimator.python.estimator.canned.dnn.DNNClassifierV2 at 0x7f46a2ac5860>"
            ]
          },
          "metadata": {
            "tags": []
          },
          "execution_count": 28
        }
      ]
    },
    {
      "cell_type": "code",
      "metadata": {
        "colab": {
          "base_uri": "https://localhost:8080/"
        },
        "id": "0oiwi7dV61Yj",
        "outputId": "0365596e-93d2-4c42-8660-fdcd5afeb5fa"
      },
      "source": [
        "eval_result = classifier.evaluate(\r\n",
        "    input_fn=lambda: input_fn(test, test_y, training=False))\r\n",
        "\r\n",
        "print('\\nTest set accuracy: {accuracy:0.3f}\\n'.format(**eval_result))"
      ],
      "execution_count": 29,
      "outputs": [
        {
          "output_type": "stream",
          "text": [
            "INFO:tensorflow:Calling model_fn.\n",
            "INFO:tensorflow:Done calling model_fn.\n",
            "INFO:tensorflow:Starting evaluation at 2021-02-03T14:05:31Z\n",
            "INFO:tensorflow:Graph was finalized.\n",
            "INFO:tensorflow:Restoring parameters from /tmp/tmpmpu35t93/model.ckpt-5000\n",
            "INFO:tensorflow:Running local_init_op.\n",
            "INFO:tensorflow:Done running local_init_op.\n",
            "INFO:tensorflow:Inference Time : 0.28430s\n",
            "INFO:tensorflow:Finished evaluation at 2021-02-03-14:05:31\n",
            "INFO:tensorflow:Saving dict for global step 5000: accuracy = 0.53333336, average_loss = 0.8817113, global_step = 5000, loss = 0.8817113\n",
            "INFO:tensorflow:Saving 'checkpoint_path' summary for global step 5000: /tmp/tmpmpu35t93/model.ckpt-5000\n",
            "\n",
            "Test set accuracy: 0.533\n",
            "\n"
          ],
          "name": "stdout"
        }
      ]
    },
    {
      "cell_type": "code",
      "metadata": {
        "colab": {
          "base_uri": "https://localhost:8080/"
        },
        "id": "ZunNu5HF8mhh",
        "outputId": "e0efdaf9-599b-43bf-9b05-1dc992c070ba"
      },
      "source": [
        "def input_fn(features, batch_size=256):\r\n",
        "    # Convert the inputs to a Dataset without labels.\r\n",
        "    return tf.data.Dataset.from_tensor_slices(dict(features)).batch(batch_size)\r\n",
        "\r\n",
        "features = ['SepalLength', 'SepalWidth', 'PetalLength', 'PetalWidth']\r\n",
        "predict = {}\r\n",
        "\r\n",
        "print(\"Please type numeric values as prompted.\")\r\n",
        "for feature in features:\r\n",
        "  valid = True\r\n",
        "  while valid: \r\n",
        "    val = input(feature + \": \")\r\n",
        "    if not val.isdigit(): valid = False\r\n",
        "\r\n",
        "  predict[feature] = [float(val)]\r\n",
        "\r\n",
        "predictions = classifier.predict(input_fn=lambda: input_fn(predict))\r\n",
        "for pred_dict in predictions:\r\n",
        "    class_id = pred_dict['class_ids'][0]\r\n",
        "    probability = pred_dict['probabilities'][class_id]\r\n",
        "\r\n",
        "    print('Prediction is \"{}\" ({:.1f}%)'.format(\r\n",
        "        SPECIES[class_id], 100 * probability))\r\n"
      ],
      "execution_count": 30,
      "outputs": [
        {
          "output_type": "stream",
          "text": [
            "Please type numeric values as prompted.\n",
            "SepalLength: 2.5\n",
            "SepalWidth: 2.5\n",
            "PetalLength: 5.5\n",
            "PetalWidth: 6.5\n",
            "INFO:tensorflow:Calling model_fn.\n",
            "INFO:tensorflow:Done calling model_fn.\n",
            "INFO:tensorflow:Graph was finalized.\n",
            "INFO:tensorflow:Restoring parameters from /tmp/tmpmpu35t93/model.ckpt-5000\n",
            "INFO:tensorflow:Running local_init_op.\n",
            "INFO:tensorflow:Done running local_init_op.\n",
            "Prediction is \"Virginica\" (75.1%)\n"
          ],
          "name": "stdout"
        }
      ]
    }
  ]
}