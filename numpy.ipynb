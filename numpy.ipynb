{
  "nbformat": 4,
  "nbformat_minor": 0,
  "metadata": {
    "colab": {
      "name": "numpy.ipynb",
      "provenance": [],
      "authorship_tag": "ABX9TyM98L/RG4IFIDzQ2J4NcQ0o",
      "include_colab_link": true
    },
    "kernelspec": {
      "name": "python3",
      "display_name": "Python 3"
    },
    "language_info": {
      "name": "python"
    }
  },
  "cells": [
    {
      "cell_type": "markdown",
      "metadata": {
        "id": "view-in-github",
        "colab_type": "text"
      },
      "source": [
        "<a href=\"https://colab.research.google.com/github/GauravGupta7/project_S/blob/master/numpy.ipynb\" target=\"_parent\"><img src=\"https://colab.research.google.com/assets/colab-badge.svg\" alt=\"Open In Colab\"/></a>"
      ]
    },
    {
      "cell_type": "markdown",
      "metadata": {
        "id": "Ll_mxeKcFB7Y"
      },
      "source": [
        "This is the code as taught in : https://www.youtube.com/watch?v=8Y0qQEh7dJg"
      ]
    },
    {
      "cell_type": "code",
      "metadata": {
        "id": "c1EdT15rGZvA"
      },
      "source": [
        "import numpy as np\n",
        "import matplotlib.pylab as plt\n",
        "from numpy import random"
      ],
      "execution_count": 1,
      "outputs": []
    },
    {
      "cell_type": "markdown",
      "metadata": {
        "id": "Trp3MdtrO-wC"
      },
      "source": [
        "**ARRAYS IN NUMPY**"
      ]
    },
    {
      "cell_type": "code",
      "metadata": {
        "id": "97TokMRzG0bD",
        "colab": {
          "base_uri": "https://localhost:8080/"
        },
        "outputId": "b910a501-3af1-4441-ae49-a2bcd3843e73"
      },
      "source": [
        "#creating a single dimensional numpy array from python list:\n",
        "list1 = [1,2,3,4,5]\n",
        "np_array1 = np.array(list1, dtype = np.int8)\n",
        "np_array1"
      ],
      "execution_count": 2,
      "outputs": [
        {
          "output_type": "execute_result",
          "data": {
            "text/plain": [
              "array([1, 2, 3, 4, 5], dtype=int8)"
            ]
          },
          "metadata": {
            "tags": []
          },
          "execution_count": 2
        }
      ]
    },
    {
      "cell_type": "code",
      "metadata": {
        "id": "tI4PT1FFHRbY",
        "colab": {
          "base_uri": "https://localhost:8080/"
        },
        "outputId": "fd8e99dc-ba48-43d8-ebf2-44b44ec1bd95"
      },
      "source": [
        "#creating a multi dimensional numpy array from multi dimensional python list:\n",
        "list2 = [[1,2,3], [4,5,6], [7,8,9]]\n",
        "np_array2 = np.array(list2, dtype = np.int8)\n",
        "np_array2"
      ],
      "execution_count": 3,
      "outputs": [
        {
          "output_type": "execute_result",
          "data": {
            "text/plain": [
              "array([[1, 2, 3],\n",
              "       [4, 5, 6],\n",
              "       [7, 8, 9]], dtype=int8)"
            ]
          },
          "metadata": {
            "tags": []
          },
          "execution_count": 3
        }
      ]
    },
    {
      "cell_type": "code",
      "metadata": {
        "id": "DJLOE0SsJ54q",
        "colab": {
          "base_uri": "https://localhost:8080/"
        },
        "outputId": "7d22c659-6d14-4aec-cace-d2852b07d25a"
      },
      "source": [
        "#creating a numpy array in a range:\n",
        "array1 = np.arange(1, 10)\n",
        "print(array1)\n",
        "\n",
        "#creating a numpy array in a range with 2 steps:\n",
        "array2 = np.arange(1, 10, 2)\n",
        "print(array2)\n",
        "\n",
        "#use of linspace:\n",
        "array3 = np.linspace(0, 5, 5)\n",
        "print(array3)\n",
        "\n",
        "#using the random function:\n",
        "array4 = np.random.randint(10, 50, size=(2,3))\n",
        "print(array4)"
      ],
      "execution_count": 4,
      "outputs": [
        {
          "output_type": "stream",
          "text": [
            "[1 2 3 4 5 6 7 8 9]\n",
            "[1 3 5 7 9]\n",
            "[0.   1.25 2.5  3.75 5.  ]\n",
            "[[38 49 45]\n",
            " [39 41 11]]\n"
          ],
          "name": "stdout"
        }
      ]
    },
    {
      "cell_type": "markdown",
      "metadata": {
        "id": "vFTgPRNCOziH"
      },
      "source": [
        "**SLICING & INDEXING OF NUMPY ARRAYS**\n"
      ]
    },
    {
      "cell_type": "code",
      "metadata": {
        "colab": {
          "base_uri": "https://localhost:8080/"
        },
        "id": "4BLm41bIO8Ns",
        "outputId": "dccf1aa3-8afc-4544-cffa-e7b95e2176d9"
      },
      "source": [
        "#Changing the value at a particular index:\n",
        "print(\"np_array2:\\n\", np_array2)\n",
        "np_array2[0, 0] = 2\n",
        "print(np_array2)"
      ],
      "execution_count": 5,
      "outputs": [
        {
          "output_type": "stream",
          "text": [
            "np_array2:\n",
            " [[1 2 3]\n",
            " [4 5 6]\n",
            " [7 8 9]]\n",
            "[[2 2 3]\n",
            " [4 5 6]\n",
            " [7 8 9]]\n"
          ],
          "name": "stdout"
        }
      ]
    },
    {
      "cell_type": "code",
      "metadata": {
        "colab": {
          "base_uri": "https://localhost:8080/"
        },
        "id": "x-hNDDswbr08",
        "outputId": "ffab70c2-431e-4cb4-d009-6e6b96b87a85"
      },
      "source": [
        "#another technique for the above:\n",
        "np_array2.itemset((0, 2), 2)\n",
        "print(np_array2)"
      ],
      "execution_count": 6,
      "outputs": [
        {
          "output_type": "stream",
          "text": [
            "[[2 2 2]\n",
            " [4 5 6]\n",
            " [7 8 9]]\n"
          ],
          "name": "stdout"
        }
      ]
    },
    {
      "cell_type": "code",
      "metadata": {
        "colab": {
          "base_uri": "https://localhost:8080/"
        },
        "id": "P3c_b77Pc2Jl",
        "outputId": "a981ce13-f353-488f-c9ac-b4959762de2c"
      },
      "source": [
        "print(np_array2[0,1])\n",
        "print(np_array2[0])\n",
        "print(np_array2.item(0,1))\n",
        "print(np_array2.item(4))"
      ],
      "execution_count": 7,
      "outputs": [
        {
          "output_type": "stream",
          "text": [
            "2\n",
            "[2 2 2]\n",
            "2\n",
            "5\n"
          ],
          "name": "stdout"
        }
      ]
    },
    {
      "cell_type": "code",
      "metadata": {
        "colab": {
          "base_uri": "https://localhost:8080/"
        },
        "id": "Am-l3Qrwe0Wl",
        "outputId": "d71f9228-651d-477b-a9bb-d75c298ef03e"
      },
      "source": [
        "print(\"np_array2\\n\", np_array2)\n",
        "a = np.take(np_array2, [0, 3, 6])\n",
        "print(a)"
      ],
      "execution_count": 8,
      "outputs": [
        {
          "output_type": "stream",
          "text": [
            "np_array2\n",
            " [[2 2 2]\n",
            " [4 5 6]\n",
            " [7 8 9]]\n",
            "[2 4 7]\n"
          ],
          "name": "stdout"
        }
      ]
    },
    {
      "cell_type": "code",
      "metadata": {
        "colab": {
          "base_uri": "https://localhost:8080/"
        },
        "id": "9RpXW4WagwOM",
        "outputId": "9148e9b3-83d2-469f-d4c5-08f2412fc84d"
      },
      "source": [
        "#to update multiple values at once:\n",
        "print(\"np_array2\\n\", np_array2)\n",
        "np.put(np_array2, [1, 4, 7], [10, 10 ,10])\n",
        "print(\"np_array2\\n\", np_array2)"
      ],
      "execution_count": 9,
      "outputs": [
        {
          "output_type": "stream",
          "text": [
            "np_array2\n",
            " [[2 2 2]\n",
            " [4 5 6]\n",
            " [7 8 9]]\n",
            "np_array2\n",
            " [[ 2 10  2]\n",
            " [ 4 10  6]\n",
            " [ 7 10  9]]\n"
          ],
          "name": "stdout"
        }
      ]
    },
    {
      "cell_type": "code",
      "metadata": {
        "colab": {
          "base_uri": "https://localhost:8080/"
        },
        "id": "kqC9U2-IizSD",
        "outputId": "5c8f32a5-c3f0-4efb-bbfa-6acc036f1fb5"
      },
      "source": [
        "#to get one column(for example, here we print second column of np_array2):\n",
        "print(\"np_array2:\\n\", np_array2)\n",
        "print(\"Second column of np_array2:\\n\", np_array2[:, 1])"
      ],
      "execution_count": 10,
      "outputs": [
        {
          "output_type": "stream",
          "text": [
            "np_array2:\n",
            " [[ 2 10  2]\n",
            " [ 4 10  6]\n",
            " [ 7 10  9]]\n",
            "Second column of np_array2:\n",
            " [10 10 10]\n"
          ],
          "name": "stdout"
        }
      ]
    },
    {
      "cell_type": "code",
      "metadata": {
        "colab": {
          "base_uri": "https://localhost:8080/"
        },
        "id": "RYAmCaqWjcQ9",
        "outputId": "ad6fc503-321a-4d13-820d-362382d6a2e7"
      },
      "source": [
        "#to get one row(for example, here we try to get the third row of np_array2):\n",
        "print(\"np_array2:\\n\", np_array2)\n",
        "print(\"Third row of np_array2:\\n\", np_array2[2, :])"
      ],
      "execution_count": 11,
      "outputs": [
        {
          "output_type": "stream",
          "text": [
            "np_array2:\n",
            " [[ 2 10  2]\n",
            " [ 4 10  6]\n",
            " [ 7 10  9]]\n",
            "Third row of np_array2:\n",
            " [ 7 10  9]\n"
          ],
          "name": "stdout"
        }
      ]
    },
    {
      "cell_type": "code",
      "metadata": {
        "colab": {
          "base_uri": "https://localhost:8080/"
        },
        "id": "ur5QY0f8j-nA",
        "outputId": "29c53a8a-6c6e-437f-c26b-3f25da3cc845"
      },
      "source": [
        "#to print the np_array2 upside down (Water Image):\n",
        "print(\"np_array2:\\n\", np_array2)\n",
        "print(\"-------------\\n\", np_array2[::-1])"
      ],
      "execution_count": 12,
      "outputs": [
        {
          "output_type": "stream",
          "text": [
            "np_array2:\n",
            " [[ 2 10  2]\n",
            " [ 4 10  6]\n",
            " [ 7 10  9]]\n",
            "-------------\n",
            " [[ 7 10  9]\n",
            " [ 4 10  6]\n",
            " [ 2 10  2]]\n"
          ],
          "name": "stdout"
        }
      ]
    },
    {
      "cell_type": "code",
      "metadata": {
        "colab": {
          "base_uri": "https://localhost:8080/"
        },
        "id": "aL1bTS33k1Pt",
        "outputId": "c0818b0e-1da4-4378-f6df-d72eb8d50d9a"
      },
      "source": [
        "#to print only the even element of the array:\n",
        "print(\"np_array2:\\n\", np_array2)\n",
        "print(\"-------------\\n\")\n",
        "evens = np_array2[np_array2 % 2 == 0]\n",
        "print(\"The even elements of the array are:\", evens)"
      ],
      "execution_count": 13,
      "outputs": [
        {
          "output_type": "stream",
          "text": [
            "np_array2:\n",
            " [[ 2 10  2]\n",
            " [ 4 10  6]\n",
            " [ 7 10  9]]\n",
            "-------------\n",
            "\n",
            "The even elements of the array are: [ 2 10  2  4 10  6 10]\n"
          ],
          "name": "stdout"
        }
      ]
    },
    {
      "cell_type": "code",
      "metadata": {
        "colab": {
          "base_uri": "https://localhost:8080/"
        },
        "id": "0Cbju8BnmCBg",
        "outputId": "a8e883d9-7f9e-46f2-b90b-b850f00c0ba0"
      },
      "source": [
        "#to print elements of the array using certain conditions:\n",
        "print(\"np_array2:\\n\", np_array2)\n",
        "cond1 = np_array2[np_array2 > 5]\n",
        "print(\"Elements of the array greater than 5 are: \", cond1)\n",
        "cond2 = np_array2[(np_array2 > 5) & (np_array2 < 9)]\n",
        "print(\"Elements of the array greater than 5 and less than 9 are:\", cond2)"
      ],
      "execution_count": 14,
      "outputs": [
        {
          "output_type": "stream",
          "text": [
            "np_array2:\n",
            " [[ 2 10  2]\n",
            " [ 4 10  6]\n",
            " [ 7 10  9]]\n",
            "Elements of the array greater than 5 are:  [10 10  6  7 10  9]\n",
            "Elements of the array greater than 5 and less than 9 are: [6 7]\n"
          ],
          "name": "stdout"
        }
      ]
    },
    {
      "cell_type": "code",
      "metadata": {
        "colab": {
          "base_uri": "https://localhost:8080/"
        },
        "id": "aQXC67MGp60j",
        "outputId": "681b6785-6b04-442f-901b-d0784fc37ac3"
      },
      "source": [
        "#to get the unique elements of numpy array:\n",
        "print(\"np_array2:\\n\", np_array2)\n",
        "u_elements = np.unique(np_array2)\n",
        "print(\"The elemnts in the np_array2 are:\\n\", u_elements)"
      ],
      "execution_count": 15,
      "outputs": [
        {
          "output_type": "stream",
          "text": [
            "np_array2:\n",
            " [[ 2 10  2]\n",
            " [ 4 10  6]\n",
            " [ 7 10  9]]\n",
            "The elemnts in the np_array2 are:\n",
            " [ 2  4  6  7  9 10]\n"
          ],
          "name": "stdout"
        }
      ]
    },
    {
      "cell_type": "markdown",
      "metadata": {
        "id": "2Bf2DA5rAFGn"
      },
      "source": [
        "**RESHAPING NUMPY ARRAYS**"
      ]
    },
    {
      "cell_type": "code",
      "metadata": {
        "colab": {
          "base_uri": "https://localhost:8080/"
        },
        "id": "QehIlyUBAOCt",
        "outputId": "6a86f62f-2e64-4a02-994b-650a49e402e7"
      },
      "source": [
        "#The reshape() function\n",
        "print(\"np_array2:\\n\", np_array2)\n",
        "np_array2.reshape((1, 9))\n",
        "print(\"The reshaped array is:\", np_array2.reshape((1, 9)))"
      ],
      "execution_count": 17,
      "outputs": [
        {
          "output_type": "stream",
          "text": [
            "np_array2:\n",
            " [[ 2 10  2]\n",
            " [ 4 10  6]\n",
            " [ 7 10  9]]\n",
            "The reshaped array is: [[ 2 10  2  4 10  6  7 10  9]]\n"
          ],
          "name": "stdout"
        }
      ]
    },
    {
      "cell_type": "code",
      "metadata": {
        "colab": {
          "base_uri": "https://localhost:8080/"
        },
        "id": "M82lwrwtBMmO",
        "outputId": "faacb67d-9526-4855-c6e5-a00a340e4ac6"
      },
      "source": [
        "#The resize function:\n",
        "print(\"np_array2:\\n\", np_array2)\n",
        "print(\"The resized array is:\\n\", np.resize(np_array2, (2, 5)))"
      ],
      "execution_count": 20,
      "outputs": [
        {
          "output_type": "stream",
          "text": [
            "np_array2:\n",
            " [[ 2 10  2]\n",
            " [ 4 10  6]\n",
            " [ 7 10  9]]\n",
            "The resized array is:\n",
            " [[ 2 10  2  4 10]\n",
            " [ 6  7 10  9  2]]\n"
          ],
          "name": "stdout"
        }
      ]
    },
    {
      "cell_type": "code",
      "metadata": {
        "colab": {
          "base_uri": "https://localhost:8080/"
        },
        "id": "n_mLxDCaB5ln",
        "outputId": "ff913ce7-1223-4fd1-bd5a-9e21fd39f4b9"
      },
      "source": [
        "#Transpose of an array:\n",
        "print(\"np_array2:\\n\", np_array2)\n",
        "print(\"The transpose of the array is:\\n\", np_array2.transpose())\n",
        "\n",
        "#The swapaxes() functiom:\n",
        "print(\"np_array2:\\n\", np_array2)\n",
        "print(\"After swapping axes:\\n\", np_array2.swapaxes(0,1))"
      ],
      "execution_count": 23,
      "outputs": [
        {
          "output_type": "stream",
          "text": [
            "np_array2:\n",
            " [[ 2 10  2]\n",
            " [ 4 10  6]\n",
            " [ 7 10  9]]\n",
            "The transpose of the array is:\n",
            " [[ 2  4  7]\n",
            " [10 10 10]\n",
            " [ 2  6  9]]\n",
            "np_array2:\n",
            " [[ 2 10  2]\n",
            " [ 4 10  6]\n",
            " [ 7 10  9]]\n",
            "After swapping axes:\n",
            " [[ 2  4  7]\n",
            " [10 10 10]\n",
            " [ 2  6  9]]\n"
          ],
          "name": "stdout"
        }
      ]
    },
    {
      "cell_type": "code",
      "metadata": {
        "colab": {
          "base_uri": "https://localhost:8080/"
        },
        "id": "LtOvSKRgDaRF",
        "outputId": "d8a67fff-2300-474a-e0a7-6dd50c508c59"
      },
      "source": [
        "#The flatten() function:\n",
        "print(\"np_array2:\\n\", np_array2)\n",
        "print(\"The flattened array is:\\n\", np_array2.flatten())\n",
        "\n",
        "print(\"np_array2:\\n\", np_array2)\n",
        "print(\"Flattened at column:\\n\", np_array2.flatten('F'))"
      ],
      "execution_count": 28,
      "outputs": [
        {
          "output_type": "stream",
          "text": [
            "np_array2:\n",
            " [[ 2 10  2]\n",
            " [ 4 10  6]\n",
            " [ 7 10  9]]\n",
            "The flattened array is:\n",
            " [ 2 10  2  4 10  6  7 10  9]\n",
            "np_array2:\n",
            " [[ 2 10  2]\n",
            " [ 4 10  6]\n",
            " [ 7 10  9]]\n",
            "Flattened at column:\n",
            " [ 2  4  7 10 10 10  2  6  9]\n"
          ],
          "name": "stdout"
        }
      ]
    },
    {
      "cell_type": "code",
      "metadata": {
        "colab": {
          "base_uri": "https://localhost:8080/"
        },
        "id": "mDlH5T_MFrUe",
        "outputId": "60159ad2-273f-4cd7-e85f-9bfc9cf4515b"
      },
      "source": [
        "#Sorting:\n",
        "print(\"np_array2:\\n\", np_array2)\n",
        "print(\"Sorted Row wise:\\n\", np.sort(np_array2, axis=0))\n",
        "\n",
        "print(\"np_array2:\\n\", np_array2)\n",
        "print(\"Sorted Column wise:\\n\", np.sort(np_array2, axis=1))"
      ],
      "execution_count": 34,
      "outputs": [
        {
          "output_type": "stream",
          "text": [
            "np_array2:\n",
            " [[ 2  2 10]\n",
            " [ 4  6 10]\n",
            " [ 7  9 10]]\n",
            "Sorted Row wise:\n",
            " [[ 2  2 10]\n",
            " [ 4  6 10]\n",
            " [ 7  9 10]]\n",
            "np_array2:\n",
            " [[ 2  2 10]\n",
            " [ 4  6 10]\n",
            " [ 7  9 10]]\n",
            "Sorted Column wise:\n",
            " [[ 2  2 10]\n",
            " [ 4  6 10]\n",
            " [ 7  9 10]]\n"
          ],
          "name": "stdout"
        }
      ]
    },
    {
      "cell_type": "markdown",
      "metadata": {
        "id": "CR1M8_xRGwy9"
      },
      "source": [
        "**STACKING AND SPLITTING ARRAYS**"
      ]
    },
    {
      "cell_type": "code",
      "metadata": {
        "id": "YEIkn8-KG3vR"
      },
      "source": [
        ""
      ],
      "execution_count": null,
      "outputs": []
    }
  ]
}