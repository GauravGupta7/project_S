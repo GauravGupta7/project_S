{
  "nbformat": 4,
  "nbformat_minor": 0,
  "metadata": {
    "colab": {
      "name": "MNIST_using_pytorch.ipynb",
      "provenance": [],
      "authorship_tag": "ABX9TyNVNDUzaRRc562ZAPBoCGBb",
      "include_colab_link": true
    },
    "kernelspec": {
      "name": "python3",
      "display_name": "Python 3"
    }
  },
  "cells": [
    {
      "cell_type": "markdown",
      "metadata": {
        "id": "view-in-github",
        "colab_type": "text"
      },
      "source": [
        "<a href=\"https://colab.research.google.com/github/GauravGupta7/project_S/blob/master/MNIST_using_pytorch.ipynb\" target=\"_parent\"><img src=\"https://colab.research.google.com/assets/colab-badge.svg\" alt=\"Open In Colab\"/></a>"
      ]
    },
    {
      "cell_type": "markdown",
      "metadata": {
        "id": "Yb-R6p2CZKuY"
      },
      "source": [
        "Here we are working upon the MNIST dataset and we are using the concept of Logistic Regression for Image Classification using Pytorch."
      ]
    },
    {
      "cell_type": "code",
      "metadata": {
        "id": "qcfks1xvZd2u"
      },
      "source": [
        "# Imports\r\n",
        "import torch\r\n",
        "import torchvision\r\n",
        "from torchvision.datasets import MNIST\r\n",
        "import torchvision.transforms as transforms\r\n",
        "import torch.nn.functional as F"
      ],
      "execution_count": 52,
      "outputs": []
    },
    {
      "cell_type": "code",
      "metadata": {
        "colab": {
          "base_uri": "https://localhost:8080/"
        },
        "id": "kfo9bQAtaZVD",
        "outputId": "470374e1-d709-4ec2-c33e-2874b4ecd75f"
      },
      "source": [
        "# Download training dataset\r\n",
        "dataset = MNIST(root='data/', download=True)\r\n",
        "len(dataset)"
      ],
      "execution_count": 53,
      "outputs": [
        {
          "output_type": "execute_result",
          "data": {
            "text/plain": [
              "60000"
            ]
          },
          "metadata": {
            "tags": []
          },
          "execution_count": 53
        }
      ]
    },
    {
      "cell_type": "code",
      "metadata": {
        "colab": {
          "base_uri": "https://localhost:8080/"
        },
        "id": "u7VopvFYalzW",
        "outputId": "f2321006-7f0e-48ed-d8e1-e5585bc99077"
      },
      "source": [
        "# Download the test dataset\r\n",
        "test_dataset = MNIST(root='data/', train=False)\r\n",
        "len(test_dataset)"
      ],
      "execution_count": 54,
      "outputs": [
        {
          "output_type": "execute_result",
          "data": {
            "text/plain": [
              "10000"
            ]
          },
          "metadata": {
            "tags": []
          },
          "execution_count": 54
        }
      ]
    },
    {
      "cell_type": "code",
      "metadata": {
        "colab": {
          "base_uri": "https://localhost:8080/"
        },
        "id": "q2eUuu_QbIs4",
        "outputId": "1e040f83-a479-4807-d6b0-b62583f9781a"
      },
      "source": [
        "# Getting a sample element of test dataset\r\n",
        "dataset[0]"
      ],
      "execution_count": 55,
      "outputs": [
        {
          "output_type": "execute_result",
          "data": {
            "text/plain": [
              "(<PIL.Image.Image image mode=L size=28x28 at 0x7FBA0CC37390>, 5)"
            ]
          },
          "metadata": {
            "tags": []
          },
          "execution_count": 55
        }
      ]
    },
    {
      "cell_type": "markdown",
      "metadata": {
        "id": "nWN6Vsandb74"
      },
      "source": [
        "To get an image like view of the dataset elements, we need to use the matplotlib of python"
      ]
    },
    {
      "cell_type": "code",
      "metadata": {
        "colab": {
          "base_uri": "https://localhost:8080/",
          "height": 282
        },
        "id": "WKlsGjc9babq",
        "outputId": "dc06c794-3edb-40f4-c2c5-dcbd41e38eea"
      },
      "source": [
        "import matplotlib.pyplot as plt\r\n",
        "%matplotlib inline\r\n",
        "\r\n",
        "image, label = dataset[0]\r\n",
        "plt.imshow(image, cmap='gray')\r\n",
        "print('Label:', label)"
      ],
      "execution_count": 56,
      "outputs": [
        {
          "output_type": "stream",
          "text": [
            "Label: 5\n"
          ],
          "name": "stdout"
        },
        {
          "output_type": "display_data",
          "data": {
            "image/png": "[encoded data removed]",
            "text/plain": [
              "<Figure size 432x288 with 1 Axes>"
            ]
          },
          "metadata": {
            "tags": [],
            "needs_background": "light"
          }
        }
      ]
    },
    {
      "cell_type": "code",
      "metadata": {
        "colab": {
          "base_uri": "https://localhost:8080/",
          "height": 282
        },
        "id": "JbNXn0xCefgg",
        "outputId": "20b15b56-b883-44a4-85a4-5e1c60fe7047"
      },
      "source": [
        "image, label = dataset[10]\r\n",
        "plt.imshow(image, cmap='gray')\r\n",
        "print('Label:', label)"
      ],
      "execution_count": 57,
      "outputs": [
        {
          "output_type": "stream",
          "text": [
            "Label: 3\n"
          ],
          "name": "stdout"
        },
        {
          "output_type": "display_data",
          "data": {
            "image/png": "[encoded data removed]",
            "text/plain": [
              "<Figure size 432x288 with 1 Axes>"
            ]
          },
          "metadata": {
            "tags": [],
            "needs_background": "light"
          }
        }
      ]
    },
    {
      "cell_type": "code",
      "metadata": {
        "id": "iR-O4nkRfFen"
      },
      "source": [
        "# MNIST dataset (images and labels)\r\n",
        "dataset = MNIST(root='data/', \r\n",
        "                train=True,\r\n",
        "                transform=transforms.ToTensor())"
      ],
      "execution_count": 58,
      "outputs": []
    },
    {
      "cell_type": "code",
      "metadata": {
        "colab": {
          "base_uri": "https://localhost:8080/"
        },
        "id": "l-op5_WjfJxN",
        "outputId": "84174506-82ff-481a-b8b1-d233dd136da1"
      },
      "source": [
        "img_tensor, label = dataset[0]\r\n",
        "print(img_tensor.shape, label)"
      ],
      "execution_count": 59,
      "outputs": [
        {
          "output_type": "stream",
          "text": [
            "torch.Size([1, 28, 28]) 5\n"
          ],
          "name": "stdout"
        }
      ]
    },
    {
      "cell_type": "code",
      "metadata": {
        "colab": {
          "base_uri": "https://localhost:8080/"
        },
        "id": "Vjqml7gzhm9e",
        "outputId": "836da60a-9de0-4225-a6d9-272bcdac62dd"
      },
      "source": [
        "print(img_tensor[0,10:15,10:15])\r\n",
        "print(torch.max(img_tensor), torch.min(img_tensor))"
      ],
      "execution_count": 60,
      "outputs": [
        {
          "output_type": "stream",
          "text": [
            "tensor([[0.0039, 0.6039, 0.9922, 0.3529, 0.0000],\n",
            "        [0.0000, 0.5451, 0.9922, 0.7451, 0.0078],\n",
            "        [0.0000, 0.0431, 0.7451, 0.9922, 0.2745],\n",
            "        [0.0000, 0.0000, 0.1373, 0.9451, 0.8824],\n",
            "        [0.0000, 0.0000, 0.0000, 0.3176, 0.9412]])\n",
            "tensor(1.) tensor(0.)\n"
          ],
          "name": "stdout"
        }
      ]
    },
    {
      "cell_type": "code",
      "metadata": {
        "colab": {
          "base_uri": "https://localhost:8080/",
          "height": 265
        },
        "id": "eDwEEggAkTGa",
        "outputId": "71005e39-f1df-4824-b4c9-f1da895e1781"
      },
      "source": [
        "# Plot the image by passing in the 28x28 matrix\r\n",
        "plt.imshow(img_tensor[0,10:27,10:27], cmap='gray');"
      ],
      "execution_count": 61,
      "outputs": [
        {
          "output_type": "display_data",
          "data": {
            "image/png": "[encoded data removed]",
            "text/plain": [
              "<Figure size 432x288 with 1 Axes>"
            ]
          },
          "metadata": {
            "tags": [],
            "needs_background": "light"
          }
        }
      ]
    },
    {
      "cell_type": "code",
      "metadata": {
        "colab": {
          "base_uri": "https://localhost:8080/"
        },
        "id": "B0PB3jinlZ1T",
        "outputId": "9400909b-8b1c-4969-8bc5-f68902db235d"
      },
      "source": [
        "# Creating a random validation dataset\r\n",
        "from torch.utils.data import random_split\r\n",
        "\r\n",
        "train_ds, val_ds = random_split(dataset, [50000, 10000])\r\n",
        "len(train_ds), len(val_ds)"
      ],
      "execution_count": 62,
      "outputs": [
        {
          "output_type": "execute_result",
          "data": {
            "text/plain": [
              "(50000, 10000)"
            ]
          },
          "metadata": {
            "tags": []
          },
          "execution_count": 62
        }
      ]
    },
    {
      "cell_type": "code",
      "metadata": {
        "id": "Kv3U9LDgln-5"
      },
      "source": [
        "# Creating DataLoader of Batch Size 128\r\n",
        "from torch.utils.data import DataLoader\r\n",
        "\r\n",
        "batch_size = 128\r\n",
        "\r\n",
        "train_loader = DataLoader(train_ds, batch_size, shuffle=True)\r\n",
        "val_loader = DataLoader(val_ds, batch_size)"
      ],
      "execution_count": 63,
      "outputs": []
    },
    {
      "cell_type": "markdown",
      "metadata": {
        "id": "SrPl0DiQme-W"
      },
      "source": [
        "**Creating the model**"
      ]
    },
    {
      "cell_type": "code",
      "metadata": {
        "id": "YadBE7Vdl3qS"
      },
      "source": [
        "import torch.nn as nn\r\n",
        "\r\n",
        "input_size = 28*28\r\n",
        "num_classes = 10\r\n",
        "\r\n",
        "# Logistic regression model\r\n",
        "model = nn.Linear(input_size, num_classes)"
      ],
      "execution_count": 64,
      "outputs": []
    },
    {
      "cell_type": "code",
      "metadata": {
        "colab": {
          "base_uri": "https://localhost:8080/"
        },
        "id": "7cswhlmsoPYb",
        "outputId": "a8b757fe-8f50-47b0-ee65-cf2d1ef93bf4"
      },
      "source": [
        "print(model.weight.shape)\r\n",
        "model.weight"
      ],
      "execution_count": 65,
      "outputs": [
        {
          "output_type": "stream",
          "text": [
            "torch.Size([10, 784])\n"
          ],
          "name": "stdout"
        },
        {
          "output_type": "execute_result",
          "data": {
            "text/plain": [
              "Parameter containing:\n",
              "tensor([[ 0.0182, -0.0235,  0.0046,  ...,  0.0048, -0.0046, -0.0251],\n",
              "        [-0.0200, -0.0204,  0.0176,  ..., -0.0002,  0.0070, -0.0274],\n",
              "        [ 0.0257,  0.0140, -0.0280,  ...,  0.0180, -0.0003, -0.0294],\n",
              "        ...,\n",
              "        [-0.0111,  0.0149, -0.0074,  ...,  0.0186,  0.0276, -0.0102],\n",
              "        [ 0.0316, -0.0031,  0.0184,  ...,  0.0194,  0.0235, -0.0097],\n",
              "        [ 0.0318,  0.0093, -0.0178,  ...,  0.0137,  0.0111, -0.0295]],\n",
              "       requires_grad=True)"
            ]
          },
          "metadata": {
            "tags": []
          },
          "execution_count": 65
        }
      ]
    },
    {
      "cell_type": "code",
      "metadata": {
        "colab": {
          "base_uri": "https://localhost:8080/"
        },
        "id": "6gMcBW_-oh9F",
        "outputId": "8d5b262a-d482-4b3d-8988-79cdea613891"
      },
      "source": [
        "print(model.bias.shape)\r\n",
        "model.bias"
      ],
      "execution_count": 66,
      "outputs": [
        {
          "output_type": "stream",
          "text": [
            "torch.Size([10])\n"
          ],
          "name": "stdout"
        },
        {
          "output_type": "execute_result",
          "data": {
            "text/plain": [
              "Parameter containing:\n",
              "tensor([ 0.0222,  0.0079, -0.0032, -0.0057, -0.0066,  0.0338, -0.0221, -0.0336,\n",
              "        -0.0103,  0.0019], requires_grad=True)"
            ]
          },
          "metadata": {
            "tags": []
          },
          "execution_count": 66
        }
      ]
    },
    {
      "cell_type": "code",
      "metadata": {
        "id": "JA195PjKVIZ6"
      },
      "source": [
        "class MnistModel(nn.Module):\r\n",
        "    def __init__(self):\r\n",
        "        super().__init__()\r\n",
        "        self.linear = nn.Linear(input_size, num_classes)\r\n",
        "        \r\n",
        "    def forward(self, xb):\r\n",
        "        xb = xb.reshape(-1, 784)\r\n",
        "        out = self.linear(xb)\r\n",
        "        return out\r\n",
        "    \r\n",
        "model = MnistModel()"
      ],
      "execution_count": 67,
      "outputs": []
    },
    {
      "cell_type": "code",
      "metadata": {
        "id": "rWxN50fdWo_6",
        "colab": {
          "base_uri": "https://localhost:8080/"
        },
        "outputId": "8f0e2f33-2e91-42cc-db67-f23013520765"
      },
      "source": [
        "model.linear\r\n",
        "print(model.linear.weight.shape, model.linear.bias.shape)\r\n",
        "list(model.parameters())"
      ],
      "execution_count": 68,
      "outputs": [
        {
          "output_type": "stream",
          "text": [
            "torch.Size([10, 784]) torch.Size([10])\n"
          ],
          "name": "stdout"
        },
        {
          "output_type": "execute_result",
          "data": {
            "text/plain": [
              "[Parameter containing:\n",
              " tensor([[-3.1923e-02, -2.9511e-02, -3.2874e-02,  ..., -2.6664e-02,\n",
              "           3.0951e-02, -1.9188e-02],\n",
              "         [ 1.9700e-02, -4.2558e-03, -2.3279e-02,  ..., -2.7873e-02,\n",
              "          -3.3649e-02,  3.3369e-03],\n",
              "         [-1.0266e-02, -6.7876e-04, -3.4777e-02,  ...,  1.1967e-02,\n",
              "           1.3576e-02,  1.1667e-02],\n",
              "         ...,\n",
              "         [ 1.1817e-02, -2.0719e-02, -3.1791e-03,  ..., -4.4120e-05,\n",
              "          -2.1086e-03,  1.5463e-02],\n",
              "         [ 3.6112e-03,  2.0244e-02,  3.1670e-02,  ..., -4.0340e-03,\n",
              "          -1.1622e-02, -1.7415e-02],\n",
              "         [-1.9122e-03,  4.6136e-03,  4.2830e-03,  ...,  2.8597e-02,\n",
              "           7.0588e-03, -6.0618e-03]], requires_grad=True),\n",
              " Parameter containing:\n",
              " tensor([ 0.0176, -0.0334, -0.0181,  0.0059, -0.0089, -0.0186, -0.0173, -0.0115,\n",
              "         -0.0045,  0.0199], requires_grad=True)]"
            ]
          },
          "metadata": {
            "tags": []
          },
          "execution_count": 68
        }
      ]
    },
    {
      "cell_type": "code",
      "metadata": {
        "colab": {
          "base_uri": "https://localhost:8080/"
        },
        "id": "HVxEI17tYjgh",
        "outputId": "51bf7f02-1b1f-4774-c779-57197a6a9847"
      },
      "source": [
        "for images, labels in train_loader:\r\n",
        "    print(images.shape)\r\n",
        "    outputs = model(images)\r\n",
        "    break\r\n",
        "\r\n",
        "print('outputs.shape : ', outputs.shape)\r\n",
        "print('Sample outputs :\\n', outputs[:2].data)"
      ],
      "execution_count": 69,
      "outputs": [
        {
          "output_type": "stream",
          "text": [
            "torch.Size([128, 1, 28, 28])\n",
            "outputs.shape :  torch.Size([128, 10])\n",
            "Sample outputs :\n",
            " tensor([[-0.1243, -0.0160, -0.0763,  0.0199, -0.0690, -0.1118,  0.2047,  0.0855,\n",
            "          0.0757,  0.0049],\n",
            "        [ 0.2737, -0.1278, -0.1217, -0.1193, -0.0175,  0.2445,  0.2783,  0.0635,\n",
            "         -0.0028,  0.1197]])\n"
          ],
          "name": "stdout"
        }
      ]
    },
    {
      "cell_type": "code",
      "metadata": {
        "colab": {
          "base_uri": "https://localhost:8080/"
        },
        "id": "zyDM16EpZl-Z",
        "outputId": "29cd4510-b89a-442b-a736-599b88592e95"
      },
      "source": [
        "outputs[:2]"
      ],
      "execution_count": 70,
      "outputs": [
        {
          "output_type": "execute_result",
          "data": {
            "text/plain": [
              "tensor([[-0.1243, -0.0160, -0.0763,  0.0199, -0.0690, -0.1118,  0.2047,  0.0855,\n",
              "          0.0757,  0.0049],\n",
              "        [ 0.2737, -0.1278, -0.1217, -0.1193, -0.0175,  0.2445,  0.2783,  0.0635,\n",
              "         -0.0028,  0.1197]], grad_fn=<SliceBackward>)"
            ]
          },
          "metadata": {
            "tags": []
          },
          "execution_count": 70
        }
      ]
    },
    {
      "cell_type": "code",
      "metadata": {
        "colab": {
          "base_uri": "https://localhost:8080/"
        },
        "id": "KjrlwHkHZupD",
        "outputId": "07028bb1-840b-47a2-ca00-37dc3e4665ff"
      },
      "source": [
        "# Apply softmax for each output row\r\n",
        "probs = F.softmax(outputs, dim=1)\r\n",
        "\r\n",
        "# Look at sample probabilities\r\n",
        "print(\"Sample probabilities:\\n\", probs[:2].data)\r\n",
        "\r\n",
        "# Add up the probabilities of an output row\r\n",
        "print(\"Sum: \", torch.sum(probs[0]).item())"
      ],
      "execution_count": 71,
      "outputs": [
        {
          "output_type": "stream",
          "text": [
            "Sample probabilities:\n",
            " tensor([[0.0879, 0.0980, 0.0923, 0.1016, 0.0929, 0.0891, 0.1222, 0.1085, 0.1074,\n",
            "         0.1001],\n",
            "        [0.1224, 0.0820, 0.0825, 0.0826, 0.0915, 0.1189, 0.1230, 0.0992, 0.0929,\n",
            "         0.1050]])\n",
            "Sum:  0.9999999403953552\n"
          ],
          "name": "stdout"
        }
      ]
    },
    {
      "cell_type": "code",
      "metadata": {
        "id": "hHTAXVNXaFNt",
        "colab": {
          "base_uri": "https://localhost:8080/"
        },
        "outputId": "8db7dd9c-5420-4686-a1bb-37339dda0b85"
      },
      "source": [
        "max_probs, preds = torch.max(probs, dim=1)\r\n",
        "print(preds)\r\n",
        "print(max_probs)"
      ],
      "execution_count": 72,
      "outputs": [
        {
          "output_type": "stream",
          "text": [
            "tensor([6, 6, 8, 4, 5, 7, 4, 5, 4, 6, 7, 9, 7, 6, 4, 4, 2, 4, 5, 4, 5, 5, 0, 5,\n",
            "        6, 2, 6, 1, 8, 0, 1, 4, 9, 0, 0, 2, 9, 4, 1, 8, 2, 5, 6, 5, 7, 4, 7, 6,\n",
            "        9, 6, 4, 7, 5, 6, 7, 6, 6, 7, 8, 6, 6, 5, 4, 7, 7, 6, 6, 4, 4, 5, 4, 7,\n",
            "        4, 7, 0, 0, 3, 4, 0, 5, 6, 5, 0, 0, 0, 9, 0, 0, 6, 6, 6, 2, 1, 0, 6, 5,\n",
            "        2, 2, 1, 6, 5, 5, 5, 4, 2, 6, 7, 5, 0, 7, 4, 0, 6, 4, 7, 0, 6, 6, 0, 4,\n",
            "        4, 6, 8, 6, 7, 2, 0, 6])\n",
            "tensor([0.1222, 0.1230, 0.1271, 0.1215, 0.1195, 0.1220, 0.1343, 0.1179, 0.1187,\n",
            "        0.1293, 0.1234, 0.1375, 0.1190, 0.1223, 0.1328, 0.1199, 0.1417, 0.1191,\n",
            "        0.1340, 0.1180, 0.1302, 0.1147, 0.1699, 0.1207, 0.1155, 0.1370, 0.1098,\n",
            "        0.1102, 0.1257, 0.1586, 0.1176, 0.1520, 0.1331, 0.1362, 0.1145, 0.1158,\n",
            "        0.1135, 0.1105, 0.1190, 0.1277, 0.1144, 0.1096, 0.1558, 0.1274, 0.1131,\n",
            "        0.1320, 0.1147, 0.1324, 0.1283, 0.1295, 0.1383, 0.1268, 0.1207, 0.1373,\n",
            "        0.1167, 0.1245, 0.1175, 0.1215, 0.1232, 0.1151, 0.1270, 0.1358, 0.1239,\n",
            "        0.1300, 0.1096, 0.1165, 0.1349, 0.1087, 0.1134, 0.1366, 0.1361, 0.1188,\n",
            "        0.1284, 0.1318, 0.1263, 0.1652, 0.1249, 0.1192, 0.1462, 0.1303, 0.1220,\n",
            "        0.1163, 0.1499, 0.1636, 0.1140, 0.1164, 0.1497, 0.1858, 0.1292, 0.1281,\n",
            "        0.1177, 0.1274, 0.1195, 0.1660, 0.1278, 0.1173, 0.1223, 0.1198, 0.1125,\n",
            "        0.1283, 0.1214, 0.1127, 0.1445, 0.1299, 0.1255, 0.1172, 0.1165, 0.1189,\n",
            "        0.1605, 0.1328, 0.1167, 0.1328, 0.1228, 0.1241, 0.1393, 0.1301, 0.1234,\n",
            "        0.1293, 0.1877, 0.1511, 0.1220, 0.1325, 0.1154, 0.1254, 0.1242, 0.1149,\n",
            "        0.1438, 0.1177], grad_fn=<MaxBackward0>)\n"
          ],
          "name": "stdout"
        }
      ]
    },
    {
      "cell_type": "code",
      "metadata": {
        "id": "NgZBQh7jaPAo",
        "colab": {
          "base_uri": "https://localhost:8080/"
        },
        "outputId": "e812c7da-2261-488c-c49f-31c711141424"
      },
      "source": [
        "labels"
      ],
      "execution_count": 73,
      "outputs": [
        {
          "output_type": "execute_result",
          "data": {
            "text/plain": [
              "tensor([1, 2, 4, 8, 7, 5, 9, 6, 6, 1, 6, 7, 4, 6, 8, 6, 2, 0, 3, 7, 8, 3, 0, 7,\n",
              "        8, 8, 4, 1, 3, 0, 8, 9, 7, 0, 2, 9, 7, 3, 8, 5, 9, 4, 9, 9, 1, 9, 9, 6,\n",
              "        7, 1, 4, 9, 3, 2, 7, 5, 9, 9, 6, 1, 1, 3, 0, 5, 9, 3, 1, 4, 4, 3, 5, 7,\n",
              "        3, 5, 0, 0, 5, 9, 0, 0, 1, 3, 0, 0, 5, 7, 0, 0, 2, 9, 1, 2, 1, 0, 3, 9,\n",
              "        6, 5, 2, 5, 4, 6, 0, 8, 6, 3, 9, 8, 0, 9, 4, 0, 1, 7, 4, 4, 4, 6, 0, 0,\n",
              "        7, 1, 7, 1, 9, 5, 0, 1])"
            ]
          },
          "metadata": {
            "tags": []
          },
          "execution_count": 73
        }
      ]
    },
    {
      "cell_type": "markdown",
      "metadata": {
        "id": "CioEtgzmaac_"
      },
      "source": [
        "# **Evaluating Metric and Loss Function**"
      ]
    },
    {
      "cell_type": "code",
      "metadata": {
        "colab": {
          "base_uri": "https://localhost:8080/"
        },
        "id": "_FPBBnzV1a_Q",
        "outputId": "a4c5f7ec-4556-4b76-c952-c176e053e841"
      },
      "source": [
        "torch.sum(preds == labels)"
      ],
      "execution_count": 74,
      "outputs": [
        {
          "output_type": "execute_result",
          "data": {
            "text/plain": [
              "tensor(28)"
            ]
          },
          "metadata": {
            "tags": []
          },
          "execution_count": 74
        }
      ]
    },
    {
      "cell_type": "code",
      "metadata": {
        "id": "i16h02rP1hUv"
      },
      "source": [
        "def accuracy(outputs, labels):\r\n",
        "    _, preds = torch.max(outputs, dim=1)\r\n",
        "    return torch.tensor(torch.sum(preds == labels).item() / len(preds))"
      ],
      "execution_count": 75,
      "outputs": []
    },
    {
      "cell_type": "code",
      "metadata": {
        "colab": {
          "base_uri": "https://localhost:8080/"
        },
        "id": "I7e73U2c1kCH",
        "outputId": "6b22734a-30ed-46fd-99c0-4969d1ec3483"
      },
      "source": [
        "accuracy(outputs, labels)"
      ],
      "execution_count": 76,
      "outputs": [
        {
          "output_type": "execute_result",
          "data": {
            "text/plain": [
              "tensor(0.2188)"
            ]
          },
          "metadata": {
            "tags": []
          },
          "execution_count": 76
        }
      ]
    },
    {
      "cell_type": "code",
      "metadata": {
        "colab": {
          "base_uri": "https://localhost:8080/"
        },
        "id": "BUKzyNIh2Ghf",
        "outputId": "86e5a332-4bc9-433b-c7c6-678f51f56549"
      },
      "source": [
        "probs"
      ],
      "execution_count": 77,
      "outputs": [
        {
          "output_type": "execute_result",
          "data": {
            "text/plain": [
              "tensor([[0.0879, 0.0980, 0.0923,  ..., 0.1085, 0.1074, 0.1001],\n",
              "        [0.1224, 0.0820, 0.0825,  ..., 0.0992, 0.0929, 0.1050],\n",
              "        [0.1028, 0.1011, 0.0762,  ..., 0.1139, 0.1271, 0.0913],\n",
              "        ...,\n",
              "        [0.1104, 0.0916, 0.1149,  ..., 0.1012, 0.1071, 0.0837],\n",
              "        [0.1438, 0.1118, 0.0821,  ..., 0.0934, 0.0941, 0.0888],\n",
              "        [0.0911, 0.0959, 0.1019,  ..., 0.0910, 0.1057, 0.0978]],\n",
              "       grad_fn=<SoftmaxBackward>)"
            ]
          },
          "metadata": {
            "tags": []
          },
          "execution_count": 77
        }
      ]
    },
    {
      "cell_type": "code",
      "metadata": {
        "colab": {
          "base_uri": "https://localhost:8080/"
        },
        "id": "aSC-d4uL3_Q3",
        "outputId": "9caa6de9-f684-42b1-efb3-6b91d42f996a"
      },
      "source": [
        "#Defining the loss function and calculating the loss for current batch of data\r\n",
        "loss_fn = F.cross_entropy\r\n",
        "loss = loss_fn(outputs, labels)\r\n",
        "print(loss)"
      ],
      "execution_count": 78,
      "outputs": [
        {
          "output_type": "stream",
          "text": [
            "tensor(2.2409, grad_fn=<NllLossBackward>)\n"
          ],
          "name": "stdout"
        }
      ]
    },
    {
      "cell_type": "markdown",
      "metadata": {
        "id": "avQdgdSy6QEO"
      },
      "source": [
        "# **TRAINING THE MODEL**"
      ]
    },
    {
      "cell_type": "code",
      "metadata": {
        "id": "z_gxbbAI6MAO"
      },
      "source": [
        "def fit(epochs, lr, model, train_loader, val_loader, opt_func=torch.optim.SGD):\r\n",
        "    optimizer = opt_func(model.parameters(), lr)\r\n",
        "    history = [] # for recording epoch-wise results\r\n",
        "    \r\n",
        "    for epoch in range(epochs):\r\n",
        "        \r\n",
        "        # Training Phase \r\n",
        "        for batch in train_loader:\r\n",
        "            loss = model.training_step(batch)\r\n",
        "            loss.backward()\r\n",
        "            optimizer.step()\r\n",
        "            optimizer.zero_grad()\r\n",
        "        \r\n",
        "        # Validation phase\r\n",
        "        result = evaluate(model, val_loader)\r\n",
        "        model.epoch_end(epoch, result)\r\n",
        "        history.append(result)\r\n",
        "\r\n",
        "    return history"
      ],
      "execution_count": 79,
      "outputs": []
    },
    {
      "cell_type": "code",
      "metadata": {
        "id": "eQ6yewOn-lMZ"
      },
      "source": [
        "def evaluate(model, val_loader):\r\n",
        "    outputs = [model.validation_step(batch) for batch in val_loader]\r\n",
        "    return model.validation_epoch_end(outputs)"
      ],
      "execution_count": 80,
      "outputs": []
    },
    {
      "cell_type": "code",
      "metadata": {
        "id": "5pBWXHzZ-nHC"
      },
      "source": [
        "class MnistModel(nn.Module):\r\n",
        "    def __init__(self):\r\n",
        "        super().__init__()\r\n",
        "        self.linear = nn.Linear(input_size, num_classes)\r\n",
        "        \r\n",
        "    def forward(self, xb):\r\n",
        "        xb = xb.reshape(-1, 784)\r\n",
        "        out = self.linear(xb)\r\n",
        "        return out\r\n",
        "    \r\n",
        "    def training_step(self, batch):\r\n",
        "        images, labels = batch \r\n",
        "        out = self(images)                  # Generate predictions\r\n",
        "        loss = F.cross_entropy(out, labels) # Calculate loss\r\n",
        "        return loss\r\n",
        "    \r\n",
        "    def validation_step(self, batch):\r\n",
        "        images, labels = batch \r\n",
        "        out = self(images)                    # Generate predictions\r\n",
        "        loss = F.cross_entropy(out, labels)   # Calculate loss\r\n",
        "        acc = accuracy(out, labels)           # Calculate accuracy\r\n",
        "        return {'val_loss': loss, 'val_acc': acc}\r\n",
        "        \r\n",
        "    def validation_epoch_end(self, outputs):\r\n",
        "        batch_losses = [x['val_loss'] for x in outputs]\r\n",
        "        epoch_loss = torch.stack(batch_losses).mean()   # Combine losses\r\n",
        "        batch_accs = [x['val_acc'] for x in outputs]\r\n",
        "        epoch_acc = torch.stack(batch_accs).mean()      # Combine accuracies\r\n",
        "        return {'val_loss': epoch_loss.item(), 'val_acc': epoch_acc.item()}\r\n",
        "    \r\n",
        "    def epoch_end(self, epoch, result):\r\n",
        "        print(\"Epoch [{}], val_loss: {:.4f}, val_acc: {:.4f}\".format(epoch, result['val_loss'], result['val_acc']))\r\n",
        "    \r\n",
        "model = MnistModel()"
      ],
      "execution_count": 81,
      "outputs": []
    },
    {
      "cell_type": "code",
      "metadata": {
        "colab": {
          "base_uri": "https://localhost:8080/"
        },
        "id": "Cq7tXGUP_Q8D",
        "outputId": "63c1d22e-6e31-492a-dac6-fb4c40786d11"
      },
      "source": [
        "#Getting result for first prediction\r\n",
        "result0 = evaluate(model, val_loader)\r\n",
        "result0"
      ],
      "execution_count": 82,
      "outputs": [
        {
          "output_type": "execute_result",
          "data": {
            "text/plain": [
              "{'val_acc': 0.16346915066242218, 'val_loss': 2.2853896617889404}"
            ]
          },
          "metadata": {
            "tags": []
          },
          "execution_count": 82
        }
      ]
    },
    {
      "cell_type": "code",
      "metadata": {
        "id": "fRRXW8y6_blo",
        "colab": {
          "base_uri": "https://localhost:8080/"
        },
        "outputId": "9242d8f3-e720-4f9b-95e7-6fc0fceec78e"
      },
      "source": [
        "#Training the model for several epochs so as to increase the model's accuracy\r\n",
        "history1 = fit(5, 0.001, model, train_loader, val_loader)\r\n",
        "history2 = fit(5, 0.001, model, train_loader, val_loader)\r\n",
        "history3 = fit(5, 0.001, model, train_loader, val_loader)\r\n",
        "history4 = fit(5, 0.001, model, train_loader, val_loader)"
      ],
      "execution_count": 83,
      "outputs": [
        {
          "output_type": "stream",
          "text": [
            "Epoch [0], val_loss: 1.9248, val_acc: 0.6247\n",
            "Epoch [1], val_loss: 1.6592, val_acc: 0.7368\n",
            "Epoch [2], val_loss: 1.4609, val_acc: 0.7728\n",
            "Epoch [3], val_loss: 1.3112, val_acc: 0.7903\n",
            "Epoch [4], val_loss: 1.1963, val_acc: 0.8014\n",
            "Epoch [0], val_loss: 1.1059, val_acc: 0.8137\n",
            "Epoch [1], val_loss: 1.0334, val_acc: 0.8199\n",
            "Epoch [2], val_loss: 0.9740, val_acc: 0.8249\n",
            "Epoch [3], val_loss: 0.9246, val_acc: 0.8295\n",
            "Epoch [4], val_loss: 0.8827, val_acc: 0.8337\n",
            "Epoch [0], val_loss: 0.8468, val_acc: 0.8377\n",
            "Epoch [1], val_loss: 0.8158, val_acc: 0.8403\n",
            "Epoch [2], val_loss: 0.7885, val_acc: 0.8435\n",
            "Epoch [3], val_loss: 0.7645, val_acc: 0.8453\n",
            "Epoch [4], val_loss: 0.7431, val_acc: 0.8480\n",
            "Epoch [0], val_loss: 0.7238, val_acc: 0.8504\n",
            "Epoch [1], val_loss: 0.7064, val_acc: 0.8517\n",
            "Epoch [2], val_loss: 0.6907, val_acc: 0.8539\n",
            "Epoch [3], val_loss: 0.6763, val_acc: 0.8553\n",
            "Epoch [4], val_loss: 0.6631, val_acc: 0.8563\n"
          ],
          "name": "stdout"
        }
      ]
    },
    {
      "cell_type": "code",
      "metadata": {
        "colab": {
          "base_uri": "https://localhost:8080/",
          "height": 295
        },
        "id": "S6wnBmZHAbvV",
        "outputId": "89fe5cdd-e22a-460c-bf47-49eb469739a1"
      },
      "source": [
        "# Visualising the models improvement graphically\r\n",
        "history = [result0] + history1 + history2 + history3 + history4\r\n",
        "accuracies = [result['val_acc'] for result in history]\r\n",
        "plt.plot(accuracies, '-x')\r\n",
        "plt.xlabel('epoch')\r\n",
        "plt.ylabel('accuracy')\r\n",
        "plt.title('Accuracy vs. No. of epochs');"
      ],
      "execution_count": 84,
      "outputs": [
        {
          "output_type": "display_data",
          "data": {
            "image/png": "[encoded data removed]",
            "text/plain": [
              "<Figure size 432x288 with 1 Axes>"
            ]
          },
          "metadata": {
            "tags": [],
            "needs_background": "light"
          }
        }
      ]
    },
    {
      "cell_type": "markdown",
      "metadata": {
        "id": "47pRocPFBZ0v"
      },
      "source": [
        "# **Testing with individual images**"
      ]
    },
    {
      "cell_type": "code",
      "metadata": {
        "id": "DiUnm0X6BgJ0"
      },
      "source": [
        "# Defining test dataset \r\n",
        "test_dataset = MNIST(root='data/', \r\n",
        "                     train=False,\r\n",
        "                     transform=transforms.ToTensor())"
      ],
      "execution_count": 85,
      "outputs": []
    },
    {
      "cell_type": "code",
      "metadata": {
        "colab": {
          "base_uri": "https://localhost:8080/",
          "height": 298
        },
        "id": "EFR_F7NMCaq8",
        "outputId": "714e8059-338c-4c72-ac50-887cacc00912"
      },
      "source": [
        "# Getting a sample image from the dataset\r\n",
        "img, label = test_dataset[0]\r\n",
        "plt.imshow(img[0], cmap='gray')\r\n",
        "print('Shape:', img.shape)\r\n",
        "print('Label:', label)"
      ],
      "execution_count": 86,
      "outputs": [
        {
          "output_type": "stream",
          "text": [
            "Shape: torch.Size([1, 28, 28])\n",
            "Label: 7\n"
          ],
          "name": "stdout"
        },
        {
          "output_type": "display_data",
          "data": {
            "image/png": "[encoded data removed]",
            "text/plain": [
              "<Figure size 432x288 with 1 Axes>"
            ]
          },
          "metadata": {
            "tags": [],
            "needs_background": "light"
          }
        }
      ]
    },
    {
      "cell_type": "markdown",
      "metadata": {
        "id": "ExzpnEYAD-KE"
      },
      "source": [
        "Here we define a helper function which returns a predicted label for a single image tensor"
      ]
    },
    {
      "cell_type": "code",
      "metadata": {
        "id": "xmq4Nd4NHAqP"
      },
      "source": [
        "def predict_image(img, model):\r\n",
        "    xb = img.unsqueeze(0)\r\n",
        "    yb = model(xb)\r\n",
        "    _, preds = torch.max(yb, dim=1)\r\n",
        "    return preds[0].item()"
      ],
      "execution_count": 87,
      "outputs": []
    },
    {
      "cell_type": "code",
      "metadata": {
        "colab": {
          "base_uri": "https://localhost:8080/",
          "height": 282
        },
        "id": "aKBcWHC9FmA7",
        "outputId": "ff3e7718-a9f3-4310-d22d-9f6e4c861ac1"
      },
      "source": [
        "img, label = test_dataset[0]\r\n",
        "plt.imshow(img[0], cmap='gray')\r\n",
        "print('Label:', label, ', Predicted:', predict_image(img, model))"
      ],
      "execution_count": 88,
      "outputs": [
        {
          "output_type": "stream",
          "text": [
            "Label: 7 , Predicted: 7\n"
          ],
          "name": "stdout"
        },
        {
          "output_type": "display_data",
          "data": {
            "image/png": "[encoded data removed]",
            "text/plain": [
              "<Figure size 432x288 with 1 Axes>"
            ]
          },
          "metadata": {
            "tags": [],
            "needs_background": "light"
          }
        }
      ]
    },
    {
      "cell_type": "code",
      "metadata": {
        "colab": {
          "base_uri": "https://localhost:8080/",
          "height": 282
        },
        "id": "_iTWrNSGFvZb",
        "outputId": "3a9f213d-777a-4d07-92d2-5322f4f18239"
      },
      "source": [
        "img, label = test_dataset[10]\r\n",
        "plt.imshow(img[0], cmap='gray')\r\n",
        "print('Label:', label, ', Predicted:', predict_image(img, model))"
      ],
      "execution_count": 89,
      "outputs": [
        {
          "output_type": "stream",
          "text": [
            "Label: 0 , Predicted: 0\n"
          ],
          "name": "stdout"
        },
        {
          "output_type": "display_data",
          "data": {
            "image/png": "[encoded data removed]",
            "text/plain": [
              "<Figure size 432x288 with 1 Axes>"
            ]
          },
          "metadata": {
            "tags": [],
            "needs_background": "light"
          }
        }
      ]
    },
    {
      "cell_type": "code",
      "metadata": {
        "colab": {
          "base_uri": "https://localhost:8080/",
          "height": 282
        },
        "id": "ZkFoje-EF1Fq",
        "outputId": "7e607776-dbf9-4381-f360-69a830cebcdc"
      },
      "source": [
        "img, label = test_dataset[193]\r\n",
        "plt.imshow(img[0], cmap='gray')\r\n",
        "print('Label:', label, ', Predicted:', predict_image(img, model))"
      ],
      "execution_count": 90,
      "outputs": [
        {
          "output_type": "stream",
          "text": [
            "Label: 9 , Predicted: 9\n"
          ],
          "name": "stdout"
        },
        {
          "output_type": "display_data",
          "data": {
            "image/png": "[encoded data removed]",
            "text/plain": [
              "<Figure size 432x288 with 1 Axes>"
            ]
          },
          "metadata": {
            "tags": [],
            "needs_background": "light"
          }
        }
      ]
    },
    {
      "cell_type": "code",
      "metadata": {
        "colab": {
          "base_uri": "https://localhost:8080/",
          "height": 282
        },
        "id": "DygpqNv_F8SU",
        "outputId": "4449c763-d9fa-4138-d4f3-c797a24ab3ef"
      },
      "source": [
        "img, label = test_dataset[1839]\r\n",
        "plt.imshow(img[0], cmap='gray')\r\n",
        "print('Label:', label, ', Predicted:', predict_image(img, model))"
      ],
      "execution_count": 91,
      "outputs": [
        {
          "output_type": "stream",
          "text": [
            "Label: 2 , Predicted: 8\n"
          ],
          "name": "stdout"
        },
        {
          "output_type": "display_data",
          "data": {
            "image/png": "[encoded data removed]",
            "text/plain": [
              "<Figure size 432x288 with 1 Axes>"
            ]
          },
          "metadata": {
            "tags": [],
            "needs_background": "light"
          }
        }
      ]
    },
    {
      "cell_type": "code",
      "metadata": {
        "colab": {
          "base_uri": "https://localhost:8080/"
        },
        "id": "bxQNY_32GAqr",
        "outputId": "8acb427f-5111-4c69-ec42-e9a5bd1520e8"
      },
      "source": [
        "test_loader = DataLoader(test_dataset, batch_size=256)\r\n",
        "result = evaluate(model, test_loader)\r\n",
        "result"
      ],
      "execution_count": 92,
      "outputs": [
        {
          "output_type": "execute_result",
          "data": {
            "text/plain": [
              "{'val_acc': 0.8599609136581421, 'val_loss': 0.6400512456893921}"
            ]
          },
          "metadata": {
            "tags": []
          },
          "execution_count": 92
        }
      ]
    },
    {
      "cell_type": "markdown",
      "metadata": {
        "id": "_BxAho7-GEWM"
      },
      "source": [
        "# **Saving and loading the model**\r\n",
        "Since the model is ready and has achieved a satifactory accuracy, we are ready to save and load the model. "
      ]
    },
    {
      "cell_type": "code",
      "metadata": {
        "id": "W9atGZ4HGEEU"
      },
      "source": [
        "torch.save(model.state_dict(), 'mnist-logistic.pth')"
      ],
      "execution_count": 93,
      "outputs": []
    },
    {
      "cell_type": "code",
      "metadata": {
        "colab": {
          "base_uri": "https://localhost:8080/"
        },
        "id": "ovooBeS3Glaa",
        "outputId": "b571af9d-4433-4932-8e90-ae77d0ac18ec"
      },
      "source": [
        "model.state_dict()"
      ],
      "execution_count": 94,
      "outputs": [
        {
          "output_type": "execute_result",
          "data": {
            "text/plain": [
              "OrderedDict([('linear.weight',\n",
              "              tensor([[-0.0150, -0.0315, -0.0159,  ..., -0.0200,  0.0202,  0.0204],\n",
              "                      [ 0.0243,  0.0224,  0.0311,  ..., -0.0295,  0.0048,  0.0105],\n",
              "                      [-0.0280,  0.0153, -0.0007,  ..., -0.0181,  0.0077, -0.0196],\n",
              "                      ...,\n",
              "                      [-0.0335,  0.0327, -0.0244,  ...,  0.0266,  0.0356,  0.0101],\n",
              "                      [ 0.0090,  0.0196,  0.0198,  ..., -0.0343, -0.0090,  0.0218],\n",
              "                      [-0.0279, -0.0262, -0.0335,  ...,  0.0198, -0.0264,  0.0028]])),\n",
              "             ('linear.bias',\n",
              "              tensor([-0.0175,  0.0830, -0.0025, -0.0173,  0.0541,  0.0416, -0.0030,  0.0592,\n",
              "                      -0.0874, -0.0134]))])"
            ]
          },
          "metadata": {
            "tags": []
          },
          "execution_count": 94
        }
      ]
    },
    {
      "cell_type": "code",
      "metadata": {
        "colab": {
          "base_uri": "https://localhost:8080/"
        },
        "id": "6Qc9jJMUGpMS",
        "outputId": "ab86c709-3d5e-421c-c3c9-27b16b8ac677"
      },
      "source": [
        "model2 = MnistModel()\r\n",
        "model2.state_dict()"
      ],
      "execution_count": 95,
      "outputs": [
        {
          "output_type": "execute_result",
          "data": {
            "text/plain": [
              "OrderedDict([('linear.weight',\n",
              "              tensor([[-0.0146,  0.0161,  0.0220,  ...,  0.0312, -0.0350,  0.0231],\n",
              "                      [-0.0084, -0.0333, -0.0156,  ..., -0.0171,  0.0320, -0.0074],\n",
              "                      [-0.0159,  0.0032,  0.0080,  ..., -0.0312, -0.0176,  0.0239],\n",
              "                      ...,\n",
              "                      [ 0.0005, -0.0212, -0.0053,  ...,  0.0152, -0.0322,  0.0293],\n",
              "                      [ 0.0182, -0.0277,  0.0036,  ..., -0.0191,  0.0037,  0.0161],\n",
              "                      [-0.0184, -0.0037, -0.0005,  ..., -0.0184,  0.0069,  0.0163]])),\n",
              "             ('linear.bias',\n",
              "              tensor([-0.0257,  0.0233, -0.0248, -0.0173,  0.0298,  0.0020, -0.0144, -0.0101,\n",
              "                       0.0031, -0.0235]))])"
            ]
          },
          "metadata": {
            "tags": []
          },
          "execution_count": 95
        }
      ]
    },
    {
      "cell_type": "code",
      "metadata": {
        "colab": {
          "base_uri": "https://localhost:8080/"
        },
        "id": "pGk5lE_oG2Qi",
        "outputId": "a39fc76e-05ea-418a-b8df-04b0a48682ec"
      },
      "source": [
        "evaluate(model2, test_loader)"
      ],
      "execution_count": 96,
      "outputs": [
        {
          "output_type": "execute_result",
          "data": {
            "text/plain": [
              "{'val_acc': 0.07294921576976776, 'val_loss': 2.3150277137756348}"
            ]
          },
          "metadata": {
            "tags": []
          },
          "execution_count": 96
        }
      ]
    },
    {
      "cell_type": "code",
      "metadata": {
        "colab": {
          "base_uri": "https://localhost:8080/"
        },
        "id": "pQwM0s2cG5Zx",
        "outputId": "34ea666f-65b1-4ead-eaf7-b8105819e43c"
      },
      "source": [
        "model2.load_state_dict(torch.load('mnist-logistic.pth'))\r\n",
        "model2.state_dict()"
      ],
      "execution_count": 97,
      "outputs": [
        {
          "output_type": "execute_result",
          "data": {
            "text/plain": [
              "OrderedDict([('linear.weight',\n",
              "              tensor([[-0.0150, -0.0315, -0.0159,  ..., -0.0200,  0.0202,  0.0204],\n",
              "                      [ 0.0243,  0.0224,  0.0311,  ..., -0.0295,  0.0048,  0.0105],\n",
              "                      [-0.0280,  0.0153, -0.0007,  ..., -0.0181,  0.0077, -0.0196],\n",
              "                      ...,\n",
              "                      [-0.0335,  0.0327, -0.0244,  ...,  0.0266,  0.0356,  0.0101],\n",
              "                      [ 0.0090,  0.0196,  0.0198,  ..., -0.0343, -0.0090,  0.0218],\n",
              "                      [-0.0279, -0.0262, -0.0335,  ...,  0.0198, -0.0264,  0.0028]])),\n",
              "             ('linear.bias',\n",
              "              tensor([-0.0175,  0.0830, -0.0025, -0.0173,  0.0541,  0.0416, -0.0030,  0.0592,\n",
              "                      -0.0874, -0.0134]))])"
            ]
          },
          "metadata": {
            "tags": []
          },
          "execution_count": 97
        }
      ]
    },
    {
      "cell_type": "code",
      "metadata": {
        "colab": {
          "base_uri": "https://localhost:8080/"
        },
        "id": "sLp6BYGyG6u_",
        "outputId": "762b3e43-cadf-4e3d-aac1-d42b6f98e1df"
      },
      "source": [
        "test_loader = DataLoader(test_dataset, batch_size=256)\r\n",
        "result = evaluate(model2, test_loader)\r\n",
        "result"
      ],
      "execution_count": 98,
      "outputs": [
        {
          "output_type": "execute_result",
          "data": {
            "text/plain": [
              "{'val_acc': 0.8599609136581421, 'val_loss': 0.6400512456893921}"
            ]
          },
          "metadata": {
            "tags": []
          },
          "execution_count": 98
        }
      ]
    }
  ]
}