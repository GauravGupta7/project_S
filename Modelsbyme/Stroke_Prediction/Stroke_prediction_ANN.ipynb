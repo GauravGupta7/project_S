{
  "nbformat": 4,
  "nbformat_minor": 0,
  "metadata": {
    "colab": {
      "name": "Stroke_prediction_ANN.ipynb",
      "provenance": []
    },
    "kernelspec": {
      "name": "python3",
      "display_name": "Python 3"
    },
    "language_info": {
      "name": "python"
    }
  },
  "cells": [
    {
      "cell_type": "code",
      "metadata": {
        "id": "PUPl_gMJsyQg"
      },
      "source": [
        "import warnings\n",
        "warnings.filterwarnings('ignore')"
      ],
      "execution_count": 1,
      "outputs": []
    },
    {
      "cell_type": "code",
      "metadata": {
        "id": "fKOyRwW7uJgI"
      },
      "source": [
        "import seaborn as sns\n",
        "import tensorflow as tf\n",
        "import keras\n",
        "import theano\n",
        "import pandas as pd\n",
        "import numpy as np\n",
        "import matplotlib.pyplot as plt"
      ],
      "execution_count": 2,
      "outputs": []
    },
    {
      "cell_type": "code",
      "metadata": {
        "colab": {
          "base_uri": "https://localhost:8080/",
          "height": 206
        },
        "id": "sz4nct9fuOMo",
        "outputId": "e376c0a6-15e1-403c-9f35-8b32ea93b94c"
      },
      "source": [
        "df = pd.read_csv('/content/drive/MyDrive/Datasets/healthcare-dataset-stroke-data.csv')\n",
        "df.head()"
      ],
      "execution_count": 3,
      "outputs": [
        {
          "output_type": "execute_result",
          "data": {
            "text/html": [
              "<div>\n",
              "<style scoped>\n",
              "    .dataframe tbody tr th:only-of-type {\n",
              "        vertical-align: middle;\n",
              "    }\n",
              "\n",
              "    .dataframe tbody tr th {\n",
              "        vertical-align: top;\n",
              "    }\n",
              "\n",
              "    .dataframe thead th {\n",
              "        text-align: right;\n",
              "    }\n",
              "</style>\n",
              "<table border=\"1\" class=\"dataframe\">\n",
              "  <thead>\n",
              "    <tr style=\"text-align: right;\">\n",
              "      <th></th>\n",
              "      <th>id</th>\n",
              "      <th>gender</th>\n",
              "      <th>age</th>\n",
              "      <th>hypertension</th>\n",
              "      <th>heart_disease</th>\n",
              "      <th>ever_married</th>\n",
              "      <th>work_type</th>\n",
              "      <th>Residence_type</th>\n",
              "      <th>avg_glucose_level</th>\n",
              "      <th>bmi</th>\n",
              "      <th>smoking_status</th>\n",
              "      <th>stroke</th>\n",
              "    </tr>\n",
              "  </thead>\n",
              "  <tbody>\n",
              "    <tr>\n",
              "      <th>0</th>\n",
              "      <td>9046</td>\n",
              "      <td>Male</td>\n",
              "      <td>67.0</td>\n",
              "      <td>0</td>\n",
              "      <td>1</td>\n",
              "      <td>Yes</td>\n",
              "      <td>Private</td>\n",
              "      <td>Urban</td>\n",
              "      <td>228.69</td>\n",
              "      <td>36.6</td>\n",
              "      <td>formerly smoked</td>\n",
              "      <td>1</td>\n",
              "    </tr>\n",
              "    <tr>\n",
              "      <th>1</th>\n",
              "      <td>51676</td>\n",
              "      <td>Female</td>\n",
              "      <td>61.0</td>\n",
              "      <td>0</td>\n",
              "      <td>0</td>\n",
              "      <td>Yes</td>\n",
              "      <td>Self-employed</td>\n",
              "      <td>Rural</td>\n",
              "      <td>202.21</td>\n",
              "      <td>NaN</td>\n",
              "      <td>never smoked</td>\n",
              "      <td>1</td>\n",
              "    </tr>\n",
              "    <tr>\n",
              "      <th>2</th>\n",
              "      <td>31112</td>\n",
              "      <td>Male</td>\n",
              "      <td>80.0</td>\n",
              "      <td>0</td>\n",
              "      <td>1</td>\n",
              "      <td>Yes</td>\n",
              "      <td>Private</td>\n",
              "      <td>Rural</td>\n",
              "      <td>105.92</td>\n",
              "      <td>32.5</td>\n",
              "      <td>never smoked</td>\n",
              "      <td>1</td>\n",
              "    </tr>\n",
              "    <tr>\n",
              "      <th>3</th>\n",
              "      <td>60182</td>\n",
              "      <td>Female</td>\n",
              "      <td>49.0</td>\n",
              "      <td>0</td>\n",
              "      <td>0</td>\n",
              "      <td>Yes</td>\n",
              "      <td>Private</td>\n",
              "      <td>Urban</td>\n",
              "      <td>171.23</td>\n",
              "      <td>34.4</td>\n",
              "      <td>smokes</td>\n",
              "      <td>1</td>\n",
              "    </tr>\n",
              "    <tr>\n",
              "      <th>4</th>\n",
              "      <td>1665</td>\n",
              "      <td>Female</td>\n",
              "      <td>79.0</td>\n",
              "      <td>1</td>\n",
              "      <td>0</td>\n",
              "      <td>Yes</td>\n",
              "      <td>Self-employed</td>\n",
              "      <td>Rural</td>\n",
              "      <td>174.12</td>\n",
              "      <td>24.0</td>\n",
              "      <td>never smoked</td>\n",
              "      <td>1</td>\n",
              "    </tr>\n",
              "  </tbody>\n",
              "</table>\n",
              "</div>"
            ],
            "text/plain": [
              "      id  gender   age  ...   bmi   smoking_status stroke\n",
              "0   9046    Male  67.0  ...  36.6  formerly smoked      1\n",
              "1  51676  Female  61.0  ...   NaN     never smoked      1\n",
              "2  31112    Male  80.0  ...  32.5     never smoked      1\n",
              "3  60182  Female  49.0  ...  34.4           smokes      1\n",
              "4   1665  Female  79.0  ...  24.0     never smoked      1\n",
              "\n",
              "[5 rows x 12 columns]"
            ]
          },
          "metadata": {
            "tags": []
          },
          "execution_count": 3
        }
      ]
    },
    {
      "cell_type": "code",
      "metadata": {
        "colab": {
          "base_uri": "https://localhost:8080/",
          "height": 206
        },
        "id": "AVbevMihu4SF",
        "outputId": "d83c0740-ed5a-486c-c651-6227cb863c0d"
      },
      "source": [
        "df.drop(labels='id', axis=1, inplace = True)\n",
        "df.head()"
      ],
      "execution_count": 4,
      "outputs": [
        {
          "output_type": "execute_result",
          "data": {
            "text/html": [
              "<div>\n",
              "<style scoped>\n",
              "    .dataframe tbody tr th:only-of-type {\n",
              "        vertical-align: middle;\n",
              "    }\n",
              "\n",
              "    .dataframe tbody tr th {\n",
              "        vertical-align: top;\n",
              "    }\n",
              "\n",
              "    .dataframe thead th {\n",
              "        text-align: right;\n",
              "    }\n",
              "</style>\n",
              "<table border=\"1\" class=\"dataframe\">\n",
              "  <thead>\n",
              "    <tr style=\"text-align: right;\">\n",
              "      <th></th>\n",
              "      <th>gender</th>\n",
              "      <th>age</th>\n",
              "      <th>hypertension</th>\n",
              "      <th>heart_disease</th>\n",
              "      <th>ever_married</th>\n",
              "      <th>work_type</th>\n",
              "      <th>Residence_type</th>\n",
              "      <th>avg_glucose_level</th>\n",
              "      <th>bmi</th>\n",
              "      <th>smoking_status</th>\n",
              "      <th>stroke</th>\n",
              "    </tr>\n",
              "  </thead>\n",
              "  <tbody>\n",
              "    <tr>\n",
              "      <th>0</th>\n",
              "      <td>Male</td>\n",
              "      <td>67.0</td>\n",
              "      <td>0</td>\n",
              "      <td>1</td>\n",
              "      <td>Yes</td>\n",
              "      <td>Private</td>\n",
              "      <td>Urban</td>\n",
              "      <td>228.69</td>\n",
              "      <td>36.6</td>\n",
              "      <td>formerly smoked</td>\n",
              "      <td>1</td>\n",
              "    </tr>\n",
              "    <tr>\n",
              "      <th>1</th>\n",
              "      <td>Female</td>\n",
              "      <td>61.0</td>\n",
              "      <td>0</td>\n",
              "      <td>0</td>\n",
              "      <td>Yes</td>\n",
              "      <td>Self-employed</td>\n",
              "      <td>Rural</td>\n",
              "      <td>202.21</td>\n",
              "      <td>NaN</td>\n",
              "      <td>never smoked</td>\n",
              "      <td>1</td>\n",
              "    </tr>\n",
              "    <tr>\n",
              "      <th>2</th>\n",
              "      <td>Male</td>\n",
              "      <td>80.0</td>\n",
              "      <td>0</td>\n",
              "      <td>1</td>\n",
              "      <td>Yes</td>\n",
              "      <td>Private</td>\n",
              "      <td>Rural</td>\n",
              "      <td>105.92</td>\n",
              "      <td>32.5</td>\n",
              "      <td>never smoked</td>\n",
              "      <td>1</td>\n",
              "    </tr>\n",
              "    <tr>\n",
              "      <th>3</th>\n",
              "      <td>Female</td>\n",
              "      <td>49.0</td>\n",
              "      <td>0</td>\n",
              "      <td>0</td>\n",
              "      <td>Yes</td>\n",
              "      <td>Private</td>\n",
              "      <td>Urban</td>\n",
              "      <td>171.23</td>\n",
              "      <td>34.4</td>\n",
              "      <td>smokes</td>\n",
              "      <td>1</td>\n",
              "    </tr>\n",
              "    <tr>\n",
              "      <th>4</th>\n",
              "      <td>Female</td>\n",
              "      <td>79.0</td>\n",
              "      <td>1</td>\n",
              "      <td>0</td>\n",
              "      <td>Yes</td>\n",
              "      <td>Self-employed</td>\n",
              "      <td>Rural</td>\n",
              "      <td>174.12</td>\n",
              "      <td>24.0</td>\n",
              "      <td>never smoked</td>\n",
              "      <td>1</td>\n",
              "    </tr>\n",
              "  </tbody>\n",
              "</table>\n",
              "</div>"
            ],
            "text/plain": [
              "   gender   age  hypertension  ...   bmi   smoking_status stroke\n",
              "0    Male  67.0             0  ...  36.6  formerly smoked      1\n",
              "1  Female  61.0             0  ...   NaN     never smoked      1\n",
              "2    Male  80.0             0  ...  32.5     never smoked      1\n",
              "3  Female  49.0             0  ...  34.4           smokes      1\n",
              "4  Female  79.0             1  ...  24.0     never smoked      1\n",
              "\n",
              "[5 rows x 11 columns]"
            ]
          },
          "metadata": {
            "tags": []
          },
          "execution_count": 4
        }
      ]
    },
    {
      "cell_type": "code",
      "metadata": {
        "colab": {
          "base_uri": "https://localhost:8080/"
        },
        "id": "xkhlkXTiy8IF",
        "outputId": "a17ef5dd-2ce6-4a56-fb94-55e737f7c623"
      },
      "source": [
        "df.isnull().sum()"
      ],
      "execution_count": 5,
      "outputs": [
        {
          "output_type": "execute_result",
          "data": {
            "text/plain": [
              "gender                 0\n",
              "age                    0\n",
              "hypertension           0\n",
              "heart_disease          0\n",
              "ever_married           0\n",
              "work_type              0\n",
              "Residence_type         0\n",
              "avg_glucose_level      0\n",
              "bmi                  201\n",
              "smoking_status         0\n",
              "stroke                 0\n",
              "dtype: int64"
            ]
          },
          "metadata": {
            "tags": []
          },
          "execution_count": 5
        }
      ]
    },
    {
      "cell_type": "code",
      "metadata": {
        "id": "_PdZPXz8zf0R"
      },
      "source": [
        "# Substituting the 'NA' with mean values in BMI column\n",
        "mean_value = df['bmi'].mean()\n",
        "df['bmi'].fillna(mean_value, inplace = True)"
      ],
      "execution_count": 6,
      "outputs": []
    },
    {
      "cell_type": "code",
      "metadata": {
        "colab": {
          "base_uri": "https://localhost:8080/"
        },
        "id": "jP81K1fHvPE9",
        "outputId": "abed4676-e607-4c84-a967-3c5a9cbb62ae"
      },
      "source": [
        "# Splitting the Dataset\n",
        "X = df.iloc[:,0:10]\n",
        "Y = df['stroke']\n",
        "print(X)\n",
        "print(Y)"
      ],
      "execution_count": 7,
      "outputs": [
        {
          "output_type": "stream",
          "text": [
            "      gender   age  hypertension  ...  avg_glucose_level        bmi   smoking_status\n",
            "0       Male  67.0             0  ...             228.69  36.600000  formerly smoked\n",
            "1     Female  61.0             0  ...             202.21  28.893237     never smoked\n",
            "2       Male  80.0             0  ...             105.92  32.500000     never smoked\n",
            "3     Female  49.0             0  ...             171.23  34.400000           smokes\n",
            "4     Female  79.0             1  ...             174.12  24.000000     never smoked\n",
            "...      ...   ...           ...  ...                ...        ...              ...\n",
            "5105  Female  80.0             1  ...              83.75  28.893237     never smoked\n",
            "5106  Female  81.0             0  ...             125.20  40.000000     never smoked\n",
            "5107  Female  35.0             0  ...              82.99  30.600000     never smoked\n",
            "5108    Male  51.0             0  ...             166.29  25.600000  formerly smoked\n",
            "5109  Female  44.0             0  ...              85.28  26.200000          Unknown\n",
            "\n",
            "[5110 rows x 10 columns]\n",
            "0       1\n",
            "1       1\n",
            "2       1\n",
            "3       1\n",
            "4       1\n",
            "       ..\n",
            "5105    0\n",
            "5106    0\n",
            "5107    0\n",
            "5108    0\n",
            "5109    0\n",
            "Name: stroke, Length: 5110, dtype: int64\n"
          ],
          "name": "stdout"
        }
      ]
    },
    {
      "cell_type": "code",
      "metadata": {
        "id": "lk5xQI8gv5D1"
      },
      "source": [
        "# Encoding the categorical data\n",
        "from sklearn.preprocessing import LabelEncoder, OneHotEncoder\n",
        "\n",
        "# Encoding the 'Gender' column\n",
        "labelencoder_X_1 = LabelEncoder()\n",
        "X['gender'] = labelencoder_X_1.fit_transform(X['gender'])\n",
        "\n",
        "# Encoding the 'ever_married' column\n",
        "labelencoder_X_2 = LabelEncoder()\n",
        "X['ever_married'] = labelencoder_X_1.fit_transform(X['ever_married'])\n",
        "\n",
        "# Encoding the 'work_type' column\n",
        "labelencoder_X_3 = LabelEncoder()\n",
        "X['work_type'] = labelencoder_X_1.fit_transform(X['work_type'])\n",
        "\n",
        "# Encoding the 'residence_type' column\n",
        "labelencoder_X_4 = LabelEncoder()\n",
        "X['Residence_type'] = labelencoder_X_1.fit_transform(X['Residence_type'])\n",
        "\n",
        "# Encoding the 'smoking_status' column\n",
        "labelencoder_X_4 = LabelEncoder()\n",
        "X['smoking_status'] = labelencoder_X_1.fit_transform(X['smoking_status'])"
      ],
      "execution_count": 8,
      "outputs": []
    },
    {
      "cell_type": "code",
      "metadata": {
        "colab": {
          "base_uri": "https://localhost:8080/",
          "height": 505
        },
        "id": "r0ggpFivv5_8",
        "outputId": "9a305a34-bcad-4bed-89f9-96f1e10da78f"
      },
      "source": [
        "# Plotting the correlation heatmap\n",
        "plt.figure(figsize = (20,8))\n",
        "sns.heatmap(df.corr(), annot = True, cmap = 'coolwarm')"
      ],
      "execution_count": 9,
      "outputs": [
        {
          "output_type": "execute_result",
          "data": {
            "text/plain": [
              "<matplotlib.axes._subplots.AxesSubplot at 0x7fb8237a4890>"
            ]
          },
          "metadata": {
            "tags": []
          },
          "execution_count": 9
        },
        {
          "output_type": "display_data",
          "data": {
            "image/png": "[encoded data removed]",
            "text/plain": [
              "<Figure size 1440x576 with 2 Axes>"
            ]
          },
          "metadata": {
            "tags": [],
            "needs_background": "light"
          }
        }
      ]
    },
    {
      "cell_type": "code",
      "metadata": {
        "id": "f2_HgmY124j2"
      },
      "source": [
        "# Splitting into train and test sets\n",
        "from sklearn.model_selection import train_test_split\n",
        "X_train, X_test, Y_train, Y_test = train_test_split(X, Y, test_size = 0.25, random_state = 0)"
      ],
      "execution_count": 10,
      "outputs": []
    },
    {
      "cell_type": "markdown",
      "metadata": {
        "id": "dksxmtzI2VhE"
      },
      "source": [
        "## Building the ANN model"
      ]
    },
    {
      "cell_type": "code",
      "metadata": {
        "id": "cLgwIhrf2dCQ"
      },
      "source": [
        "import keras\n",
        "from keras.models import Sequential\n",
        "from keras.layers import Dense"
      ],
      "execution_count": 11,
      "outputs": []
    },
    {
      "cell_type": "code",
      "metadata": {
        "id": "UevEGh6M2g4o"
      },
      "source": [
        "classifier = Sequential()"
      ],
      "execution_count": 12,
      "outputs": []
    },
    {
      "cell_type": "code",
      "metadata": {
        "id": "M3gkNRil2mF7"
      },
      "source": [
        "# Adding the Input Layer and the First Hidden Layer\n",
        "classifier.add(Dense(units = 6, kernel_initializer = 'uniform', activation = 'relu', input_dim = 10))\n",
        "\n",
        "# Adding the second hidden layer\n",
        "classifier.add(Dense(units = 6, kernel_initializer = 'uniform', activation = 'relu'))\n",
        "\n",
        "# Adding the Output Layer\n",
        "classifier.add(Dense(units = 1, kernel_initializer = 'uniform', activation = 'sigmoid'))"
      ],
      "execution_count": 13,
      "outputs": []
    },
    {
      "cell_type": "code",
      "metadata": {
        "id": "l9D06Bxv3YuH"
      },
      "source": [
        "# Compiling the ANN\n",
        "classifier.compile(optimizer = 'adam', loss = 'binary_crossentropy', metrics = ['accuracy'])"
      ],
      "execution_count": 14,
      "outputs": []
    },
    {
      "cell_type": "markdown",
      "metadata": {
        "id": "7__AXUGD3nJe"
      },
      "source": [
        "## Training the model"
      ]
    },
    {
      "cell_type": "code",
      "metadata": {
        "colab": {
          "base_uri": "https://localhost:8080/"
        },
        "id": "oFNsUBqz3qT3",
        "outputId": "d9e2ac80-bd27-4303-b331-2f92a7162bfa"
      },
      "source": [
        "classifier.fit(X_train, Y_train, batch_size = 10, epochs = 50)"
      ],
      "execution_count": 15,
      "outputs": [
        {
          "output_type": "stream",
          "text": [
            "Epoch 1/50\n",
            "384/384 [==============================] - 1s 1ms/step - loss: 0.2913 - accuracy: 0.9494\n",
            "Epoch 2/50\n",
            "384/384 [==============================] - 0s 1ms/step - loss: 0.2146 - accuracy: 0.9520\n",
            "Epoch 3/50\n",
            "384/384 [==============================] - 1s 1ms/step - loss: 0.1913 - accuracy: 0.9520\n",
            "Epoch 4/50\n",
            "384/384 [==============================] - 0s 1ms/step - loss: 0.1806 - accuracy: 0.9520\n",
            "Epoch 5/50\n",
            "384/384 [==============================] - 0s 1ms/step - loss: 0.1771 - accuracy: 0.9520\n",
            "Epoch 6/50\n",
            "384/384 [==============================] - 0s 1ms/step - loss: 0.1737 - accuracy: 0.9520\n",
            "Epoch 7/50\n",
            "384/384 [==============================] - 0s 1ms/step - loss: 0.1724 - accuracy: 0.9520\n",
            "Epoch 8/50\n",
            "384/384 [==============================] - 0s 1ms/step - loss: 0.1733 - accuracy: 0.9520\n",
            "Epoch 9/50\n",
            "384/384 [==============================] - 0s 1ms/step - loss: 0.1713 - accuracy: 0.9520\n",
            "Epoch 10/50\n",
            "384/384 [==============================] - 0s 1ms/step - loss: 0.1716 - accuracy: 0.9520\n",
            "Epoch 11/50\n",
            "384/384 [==============================] - 0s 1ms/step - loss: 0.1709 - accuracy: 0.9520\n",
            "Epoch 12/50\n",
            "384/384 [==============================] - 0s 1ms/step - loss: 0.1695 - accuracy: 0.9520\n",
            "Epoch 13/50\n",
            "384/384 [==============================] - 0s 1ms/step - loss: 0.1682 - accuracy: 0.9520\n",
            "Epoch 14/50\n",
            "384/384 [==============================] - 0s 1ms/step - loss: 0.1671 - accuracy: 0.9520\n",
            "Epoch 15/50\n",
            "384/384 [==============================] - 0s 1ms/step - loss: 0.1653 - accuracy: 0.9520\n",
            "Epoch 16/50\n",
            "384/384 [==============================] - 0s 1ms/step - loss: 0.1668 - accuracy: 0.9520\n",
            "Epoch 17/50\n",
            "384/384 [==============================] - 0s 1ms/step - loss: 0.1660 - accuracy: 0.9520\n",
            "Epoch 18/50\n",
            "384/384 [==============================] - 0s 1ms/step - loss: 0.1664 - accuracy: 0.9520\n",
            "Epoch 19/50\n",
            "384/384 [==============================] - 0s 1ms/step - loss: 0.1659 - accuracy: 0.9520\n",
            "Epoch 20/50\n",
            "384/384 [==============================] - 0s 1ms/step - loss: 0.1646 - accuracy: 0.9520\n",
            "Epoch 21/50\n",
            "384/384 [==============================] - 0s 1ms/step - loss: 0.1641 - accuracy: 0.9520\n",
            "Epoch 22/50\n",
            "384/384 [==============================] - 0s 1ms/step - loss: 0.1640 - accuracy: 0.9520\n",
            "Epoch 23/50\n",
            "384/384 [==============================] - 0s 1ms/step - loss: 0.1628 - accuracy: 0.9520\n",
            "Epoch 24/50\n",
            "384/384 [==============================] - 0s 1ms/step - loss: 0.1633 - accuracy: 0.9520\n",
            "Epoch 25/50\n",
            "384/384 [==============================] - 0s 1ms/step - loss: 0.1635 - accuracy: 0.9520\n",
            "Epoch 26/50\n",
            "384/384 [==============================] - 0s 1ms/step - loss: 0.1628 - accuracy: 0.9520\n",
            "Epoch 27/50\n",
            "384/384 [==============================] - 0s 1ms/step - loss: 0.1633 - accuracy: 0.9520\n",
            "Epoch 28/50\n",
            "384/384 [==============================] - 0s 1ms/step - loss: 0.1618 - accuracy: 0.9520\n",
            "Epoch 29/50\n",
            "384/384 [==============================] - 0s 1ms/step - loss: 0.1620 - accuracy: 0.9520\n",
            "Epoch 30/50\n",
            "384/384 [==============================] - 0s 1ms/step - loss: 0.1632 - accuracy: 0.9520\n",
            "Epoch 31/50\n",
            "384/384 [==============================] - 0s 1ms/step - loss: 0.1618 - accuracy: 0.9520\n",
            "Epoch 32/50\n",
            "384/384 [==============================] - 0s 1ms/step - loss: 0.1628 - accuracy: 0.9520\n",
            "Epoch 33/50\n",
            "384/384 [==============================] - 1s 1ms/step - loss: 0.1612 - accuracy: 0.9520\n",
            "Epoch 34/50\n",
            "384/384 [==============================] - 0s 1ms/step - loss: 0.1619 - accuracy: 0.9520\n",
            "Epoch 35/50\n",
            "384/384 [==============================] - 0s 1ms/step - loss: 0.1628 - accuracy: 0.9520\n",
            "Epoch 36/50\n",
            "384/384 [==============================] - 0s 1ms/step - loss: 0.1621 - accuracy: 0.9520\n",
            "Epoch 37/50\n",
            "384/384 [==============================] - 0s 1ms/step - loss: 0.1629 - accuracy: 0.9520\n",
            "Epoch 38/50\n",
            "384/384 [==============================] - 0s 1ms/step - loss: 0.1608 - accuracy: 0.9520\n",
            "Epoch 39/50\n",
            "384/384 [==============================] - 0s 1ms/step - loss: 0.1610 - accuracy: 0.9520\n",
            "Epoch 40/50\n",
            "384/384 [==============================] - 0s 1ms/step - loss: 0.1621 - accuracy: 0.9520\n",
            "Epoch 41/50\n",
            "384/384 [==============================] - 0s 1ms/step - loss: 0.1611 - accuracy: 0.9520\n",
            "Epoch 42/50\n",
            "384/384 [==============================] - 0s 1ms/step - loss: 0.1617 - accuracy: 0.9520\n",
            "Epoch 43/50\n",
            "384/384 [==============================] - 0s 1ms/step - loss: 0.1606 - accuracy: 0.9520\n",
            "Epoch 44/50\n",
            "384/384 [==============================] - 0s 1ms/step - loss: 0.1606 - accuracy: 0.9520\n",
            "Epoch 45/50\n",
            "384/384 [==============================] - 0s 1ms/step - loss: 0.1631 - accuracy: 0.9520\n",
            "Epoch 46/50\n",
            "384/384 [==============================] - 0s 1ms/step - loss: 0.1613 - accuracy: 0.9520\n",
            "Epoch 47/50\n",
            "384/384 [==============================] - 0s 1ms/step - loss: 0.1605 - accuracy: 0.9520\n",
            "Epoch 48/50\n",
            "384/384 [==============================] - 0s 1ms/step - loss: 0.1607 - accuracy: 0.9520\n",
            "Epoch 49/50\n",
            "384/384 [==============================] - 0s 1ms/step - loss: 0.1602 - accuracy: 0.9520\n",
            "Epoch 50/50\n",
            "384/384 [==============================] - 0s 1ms/step - loss: 0.1611 - accuracy: 0.9520\n"
          ],
          "name": "stdout"
        },
        {
          "output_type": "execute_result",
          "data": {
            "text/plain": [
              "<keras.callbacks.History at 0x7fb82ea29b90>"
            ]
          },
          "metadata": {
            "tags": []
          },
          "execution_count": 15
        }
      ]
    },
    {
      "cell_type": "markdown",
      "metadata": {
        "id": "KhFLafKd4weP"
      },
      "source": [
        "## Generating Predictions"
      ]
    },
    {
      "cell_type": "code",
      "metadata": {
        "colab": {
          "base_uri": "https://localhost:8080/"
        },
        "id": "KjCY3yIq4raj",
        "outputId": "9f635c6f-89a0-4427-dd54-2f0f8ab0428e"
      },
      "source": [
        "Y_pred = classifier.predict(X_test)\n",
        "print(Y_pred)"
      ],
      "execution_count": 17,
      "outputs": [
        {
          "output_type": "stream",
          "text": [
            "[[1.6305837e-01]\n",
            " [1.1735710e-04]\n",
            " [6.4816535e-02]\n",
            " ...\n",
            " [3.1358635e-05]\n",
            " [1.0644913e-02]\n",
            " [2.9411107e-02]]\n"
          ],
          "name": "stdout"
        }
      ]
    },
    {
      "cell_type": "code",
      "metadata": {
        "colab": {
          "base_uri": "https://localhost:8080/"
        },
        "id": "vNzEJe0s5CTv",
        "outputId": "1862ba65-3890-4314-e31d-30c9f66e201b"
      },
      "source": [
        "Y_pred = (Y_pred>0.5)\n",
        "print(Y_pred)"
      ],
      "execution_count": 18,
      "outputs": [
        {
          "output_type": "stream",
          "text": [
            "[[False]\n",
            " [False]\n",
            " [False]\n",
            " ...\n",
            " [False]\n",
            " [False]\n",
            " [False]]\n"
          ],
          "name": "stdout"
        }
      ]
    },
    {
      "cell_type": "code",
      "metadata": {
        "colab": {
          "base_uri": "https://localhost:8080/"
        },
        "id": "zfnW47GW5O34",
        "outputId": "c409020d-13d9-47e1-f6d0-32dbefe80e00"
      },
      "source": [
        "# Making the confusion matrix\n",
        "from sklearn.metrics import confusion_matrix\n",
        "cm = pd.DataFrame(confusion_matrix(Y_test, Y_pred))\n",
        "print(cm)"
      ],
      "execution_count": 19,
      "outputs": [
        {
          "output_type": "stream",
          "text": [
            "      0  1\n",
            "0  1213  0\n",
            "1    65  0\n"
          ],
          "name": "stdout"
        }
      ]
    }
  ]
}