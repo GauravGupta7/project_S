{
  "nbformat": 4,
  "nbformat_minor": 0,
  "metadata": {
    "colab": {
      "name": "Linear_regression.ipynb",
      "provenance": [],
      "authorship_tag": "ABX9TyPlFT3AH6l6HRj2XpRaSw5B",
      "include_colab_link": true
    },
    "kernelspec": {
      "name": "python3",
      "display_name": "Python 3"
    }
  },
  "cells": [
    {
      "cell_type": "markdown",
      "metadata": {
        "id": "view-in-github",
        "colab_type": "text"
      },
      "source": [
        "<a href=\"https://colab.research.google.com/github/GauravGupta7/project_S/blob/master/pytorch/Linear_regression.ipynb\" target=\"_parent\"><img src=\"https://colab.research.google.com/assets/colab-badge.svg\" alt=\"Open In Colab\"/></a>"
      ]
    },
    {
      "cell_type": "markdown",
      "metadata": {
        "id": "gXd0Dl1w_qU9"
      },
      "source": [
        "Linear Regression Using pytorch\r\n",
        "\r\n",
        "Refer to: https://jovian.ai/aakashns/02-linear-regression)"
      ]
    },
    {
      "cell_type": "code",
      "metadata": {
        "id": "m8KCwtkJ_yGp"
      },
      "source": [
        "import numpy as np\r\n",
        "import torch"
      ],
      "execution_count": 1,
      "outputs": []
    },
    {
      "cell_type": "markdown",
      "metadata": {
        "id": "EUYDgw2uAKMC"
      },
      "source": [
        "Getting a sample of training data"
      ]
    },
    {
      "cell_type": "code",
      "metadata": {
        "id": "SVUd4hMkAJwY"
      },
      "source": [
        "# Input (temp, rainfall, humidity)\r\n",
        "inputs = np.array([[73, 67, 43], \r\n",
        "                   [91, 88, 64], \r\n",
        "                   [87, 134, 58], \r\n",
        "                   [102, 43, 37], \r\n",
        "                   [69, 96, 70]], dtype='float32')"
      ],
      "execution_count": 2,
      "outputs": []
    },
    {
      "cell_type": "markdown",
      "metadata": {
        "id": "TmD8gFs3ARNP"
      },
      "source": [
        "Getting a sample of target data"
      ]
    },
    {
      "cell_type": "code",
      "metadata": {
        "id": "bqJ58qWaAWrP"
      },
      "source": [
        "# Targets (apples, oranges)\r\n",
        "targets = np.array([[56, 70], \r\n",
        "                    [81, 101], \r\n",
        "                    [119, 133], \r\n",
        "                    [22, 37], \r\n",
        "                    [103, 119]], dtype='float32')"
      ],
      "execution_count": 3,
      "outputs": []
    },
    {
      "cell_type": "markdown",
      "metadata": {
        "id": "rZs9yWLaAgnn"
      },
      "source": [
        "Converting numpy arrays to pytorch tensors"
      ]
    },
    {
      "cell_type": "code",
      "metadata": {
        "id": "is7KbJNUAkj4"
      },
      "source": [
        "# Convert inputs and targets to tensors\r\n",
        "inputs = torch.from_numpy(inputs)\r\n",
        "targets = torch.from_numpy(targets)"
      ],
      "execution_count": 4,
      "outputs": []
    },
    {
      "cell_type": "markdown",
      "metadata": {
        "id": "DwRl_MI9Ba5h"
      },
      "source": [
        "Now we are creating Weight and biases for our model. We know that we can start with any random weight and bias. So we take a random weight and bias matrix of apropiate dimension and then we will work on its accuracy. "
      ]
    },
    {
      "cell_type": "code",
      "metadata": {
        "id": "4dU8dDJBBxY3"
      },
      "source": [
        "#Creating weight and bias\r\n",
        "w = torch.randn(2, 3, requires_grad=True)    #This creates a weight tensor that has random values in it. Size=(2, 3)\r\n",
        "b = torch.randn(2, requires_grad=True)       #This creates a bias tensor that has random values in it. Size=(2, 1)"
      ],
      "execution_count": 5,
      "outputs": []
    },
    {
      "cell_type": "markdown",
      "metadata": {
        "id": "oCddm_bjBw-y"
      },
      "source": [
        "The model will perform simple matrix operations on the input(x) to give the prediction (P)\r\n",
        "\r\n",
        "p = x* WT + b;       WT = Weight transpose.\r\n",
        "\r\n",
        "The @ symbol is used to denote matrix multiplication in pytorch"
      ]
    },
    {
      "cell_type": "code",
      "metadata": {
        "id": "t53gncM4DTo3"
      },
      "source": [
        "#Defining our model as a function\r\n",
        "def model(x):\r\n",
        "    return (x @ w.t() + b)"
      ],
      "execution_count": 6,
      "outputs": []
    },
    {
      "cell_type": "markdown",
      "metadata": {
        "id": "AatW0YiMEkTa"
      },
      "source": [
        "Now we will try to generate Predictions from our model. It is still untrained though. But we will see how inputs are passed and how predictions are generated."
      ]
    },
    {
      "cell_type": "code",
      "metadata": {
        "id": "svRA6YsrE0M3",
        "colab": {
          "base_uri": "https://localhost:8080/"
        },
        "outputId": "b949af9e-36fe-4e9f-b054-bee638053f28"
      },
      "source": [
        "# Generate predictions\r\n",
        "preds = model(inputs)\r\n",
        "print(preds)"
      ],
      "execution_count": 7,
      "outputs": [
        {
          "output_type": "stream",
          "text": [
            "tensor([[-100.0441,  -27.6204],\n",
            "        [-126.4398,  -44.9263],\n",
            "        [-186.8250,  -55.3914],\n",
            "        [ -84.1962,   -3.7554],\n",
            "        [-124.6240,  -61.1580]], grad_fn=<AddBackward0>)\n"
          ],
          "name": "stdout"
        }
      ]
    },
    {
      "cell_type": "markdown",
      "metadata": {
        "id": "XPao5iqeBivb"
      },
      "source": [
        "To evaluate the accuracy of our model, we go for the mean squared error method. \r\n",
        "\r\n",
        "*   Get the difference between the two tensors\r\n",
        "*   Elements wise square the two tensor\r\n",
        "*   Take the mean of the two tensor. The 'tensor_name.numel()' function is used to calculate the number of elements in a tensor. \r\n",
        "\r\n",
        "\r\n",
        "*   Note: '@' gives matrix multiplication, '*' gives elementwise multiplication"
      ]
    },
    {
      "cell_type": "code",
      "metadata": {
        "id": "62xnd_D-CUeR"
      },
      "source": [
        "#define a function that calculates the mean squared error\r\n",
        "def mse(t1, t2):\r\n",
        "  diff = t1-t2\r\n",
        "  error = torch.sum(diff * diff)/diff.numel()\r\n",
        "  return error"
      ],
      "execution_count": 14,
      "outputs": []
    },
    {
      "cell_type": "markdown",
      "metadata": {
        "id": "HvRK9W_LqSUD"
      },
      "source": [
        "Random model testing"
      ]
    },
    {
      "cell_type": "code",
      "metadata": {
        "colab": {
          "base_uri": "https://localhost:8080/"
        },
        "id": "MJPYYcmSDstC",
        "outputId": "f310fe4a-ac40-4f5f-8775-8350692b65e9"
      },
      "source": [
        "loss = mse(preds, targets)\r\n",
        "print(loss)"
      ],
      "execution_count": 15,
      "outputs": [
        {
          "output_type": "stream",
          "text": [
            "tensor(32443.3750, grad_fn=<DivBackward0>)\n"
          ],
          "name": "stdout"
        }
      ]
    },
    {
      "cell_type": "markdown",
      "metadata": {
        "id": "KtwGuKK7qWvK"
      },
      "source": [
        "**TRAINING THE MODEL FOR MULTIPLE EPOCHS**"
      ]
    },
    {
      "cell_type": "code",
      "metadata": {
        "id": "aVLPj6tirE3b"
      },
      "source": [
        "# Train for 100 epochs\r\n",
        "for i in range(100):\r\n",
        "    preds = model(inputs)\r\n",
        "    loss = mse(preds, targets)\r\n",
        "    loss.backward()\r\n",
        "    with torch.no_grad():\r\n",
        "        w -= w.grad * 1e-5\r\n",
        "        b -= b.grad * 1e-5\r\n",
        "        w.grad.zero_()\r\n",
        "        b.grad.zero_()"
      ],
      "execution_count": 16,
      "outputs": []
    },
    {
      "cell_type": "code",
      "metadata": {
        "colab": {
          "base_uri": "https://localhost:8080/"
        },
        "id": "V5UNg5o3rUqx",
        "outputId": "6701766b-a9e4-4c79-c189-24ce725679e2"
      },
      "source": [
        "# Calculate loss\r\n",
        "preds = model(inputs)\r\n",
        "loss = mse(preds, targets)\r\n",
        "print(loss)"
      ],
      "execution_count": 17,
      "outputs": [
        {
          "output_type": "stream",
          "text": [
            "tensor(426.7613, grad_fn=<DivBackward0>)\n"
          ],
          "name": "stdout"
        }
      ]
    }
  ]
}