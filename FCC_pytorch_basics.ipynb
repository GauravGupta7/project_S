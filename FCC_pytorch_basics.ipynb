{
  "nbformat": 4,
  "nbformat_minor": 0,
  "metadata": {
    "colab": {
      "name": "FCC_pytorch_basics.ipynb",
      "provenance": [],
      "authorship_tag": "ABX9TyMX9zIMXIY09kydLERzvidH",
      "include_colab_link": true
    },
    "kernelspec": {
      "name": "python3",
      "display_name": "Python 3"
    }
  },
  "cells": [
    {
      "cell_type": "markdown",
      "metadata": {
        "id": "view-in-github",
        "colab_type": "text"
      },
      "source": [
        "<a href=\"https://colab.research.google.com/github/GauravGupta7/project_S/blob/master/FCC_pytorch_basics.ipynb\" target=\"_parent\"><img src=\"https://colab.research.google.com/assets/colab-badge.svg\" alt=\"Open In Colab\"/></a>"
      ]
    },
    {
      "cell_type": "markdown",
      "metadata": {
        "id": "Sp6VWmNordSL"
      },
      "source": [
        "Importing the Torch Library:"
      ]
    },
    {
      "cell_type": "code",
      "metadata": {
        "id": "GiY4oLw7riq5"
      },
      "source": [
        "import torch"
      ],
      "execution_count": 1,
      "outputs": []
    },
    {
      "cell_type": "markdown",
      "metadata": {
        "id": "R62R9-U8sATq"
      },
      "source": [
        "Creating a tensor having value 4.0 stored in it"
      ]
    },
    {
      "cell_type": "code",
      "metadata": {
        "colab": {
          "base_uri": "https://localhost:8080/"
        },
        "id": "n0AWW09nrs27",
        "outputId": "8f1e317a-2f3f-45c1-e259-75fb6dd65842"
      },
      "source": [
        "#tensor containing a number\r\n",
        "t1 = torch.tensor(4.)\r\n",
        "t1"
      ],
      "execution_count": 2,
      "outputs": [
        {
          "output_type": "execute_result",
          "data": {
            "text/plain": [
              "tensor(4.)"
            ]
          },
          "metadata": {
            "tags": []
          },
          "execution_count": 2
        }
      ]
    },
    {
      "cell_type": "code",
      "metadata": {
        "colab": {
          "base_uri": "https://localhost:8080/"
        },
        "id": "J9Nd_7pdtFMa",
        "outputId": "75aff85a-18ea-45c5-ce96-75dbd06dc742"
      },
      "source": [
        "#tensor containing a Vector\r\n",
        "t2 = torch.tensor([1., 2, 3, 4])\r\n",
        "t2"
      ],
      "execution_count": 3,
      "outputs": [
        {
          "output_type": "execute_result",
          "data": {
            "text/plain": [
              "tensor([1., 2., 3., 4.])"
            ]
          },
          "metadata": {
            "tags": []
          },
          "execution_count": 3
        }
      ]
    },
    {
      "cell_type": "code",
      "metadata": {
        "colab": {
          "base_uri": "https://localhost:8080/"
        },
        "id": "GP34pLWptbJD",
        "outputId": "97fee1b0-61fc-4d43-9619-c4f72a38a192"
      },
      "source": [
        "#tensor containing a Matrix\r\n",
        "t3 = torch.tensor([[5., 6], \r\n",
        "                   [7, 8], \r\n",
        "                   [9, 10]])\r\n",
        "t3"
      ],
      "execution_count": 4,
      "outputs": [
        {
          "output_type": "execute_result",
          "data": {
            "text/plain": [
              "tensor([[ 5.,  6.],\n",
              "        [ 7.,  8.],\n",
              "        [ 9., 10.]])"
            ]
          },
          "metadata": {
            "tags": []
          },
          "execution_count": 4
        }
      ]
    },
    {
      "cell_type": "code",
      "metadata": {
        "colab": {
          "base_uri": "https://localhost:8080/"
        },
        "id": "xTwBFyDetlaj",
        "outputId": "9397eafc-8680-483f-e331-709c2b980cc9"
      },
      "source": [
        "# 3-dimensional array\r\n",
        "t4 = torch.tensor([\r\n",
        "    [[11, 12, 13], \r\n",
        "     [13, 14, 15]], \r\n",
        "    [[15, 16, 17], \r\n",
        "     [17, 18, 19.]]])\r\n",
        "t4"
      ],
      "execution_count": 5,
      "outputs": [
        {
          "output_type": "execute_result",
          "data": {
            "text/plain": [
              "tensor([[[11., 12., 13.],\n",
              "         [13., 14., 15.]],\n",
              "\n",
              "        [[15., 16., 17.],\n",
              "         [17., 18., 19.]]])"
            ]
          },
          "metadata": {
            "tags": []
          },
          "execution_count": 5
        }
      ]
    },
    {
      "cell_type": "markdown",
      "metadata": {
        "id": "COPKPrOuvgOh"
      },
      "source": [
        "Getting the shapes of tensors:"
      ]
    },
    {
      "cell_type": "code",
      "metadata": {
        "colab": {
          "base_uri": "https://localhost:8080/"
        },
        "id": "f-QOb70BvfHi",
        "outputId": "75b64cf8-03f7-4eaa-a352-f4a58160d978"
      },
      "source": [
        "print(t1.shape)\r\n",
        "print(t2.shape)\r\n",
        "print(t3.shape)\r\n",
        "print(t4.shape)"
      ],
      "execution_count": 6,
      "outputs": [
        {
          "output_type": "stream",
          "text": [
            "torch.Size([])\n",
            "torch.Size([4])\n",
            "torch.Size([3, 2])\n",
            "torch.Size([2, 2, 3])\n"
          ],
          "name": "stdout"
        }
      ]
    },
    {
      "cell_type": "markdown",
      "metadata": {
        "id": "AUSFYN1Aw7CV"
      },
      "source": [
        "Creating tensors using arithmetic operations"
      ]
    },
    {
      "cell_type": "code",
      "metadata": {
        "colab": {
          "base_uri": "https://localhost:8080/"
        },
        "id": "DhSg8cirxAnT",
        "outputId": "91d0425c-97f1-4862-92ed-bb594ae15054"
      },
      "source": [
        "# Create tensors.\r\n",
        "x = torch.tensor(3.)\r\n",
        "w = torch.tensor(4., requires_grad=True)\r\n",
        "b = torch.tensor(5., requires_grad=True)\r\n",
        "x, w, b\r\n",
        "\r\n",
        "# Arithmetic operations.\r\n",
        "y = w * x + b\r\n",
        "y"
      ],
      "execution_count": 8,
      "outputs": [
        {
          "output_type": "execute_result",
          "data": {
            "text/plain": [
              "tensor(17., grad_fn=<AddBackward0>)"
            ]
          },
          "metadata": {
            "tags": []
          },
          "execution_count": 8
        }
      ]
    },
    {
      "cell_type": "markdown",
      "metadata": {
        "id": "L6XcaSlPyxdV"
      },
      "source": [
        "Creating torch arrays from NUMPY"
      ]
    },
    {
      "cell_type": "code",
      "metadata": {
        "colab": {
          "base_uri": "https://localhost:8080/"
        },
        "id": "YZ8AOqjjy5sI",
        "outputId": "0c5b667c-4b4e-4f5b-a485-9f7a257f54ab"
      },
      "source": [
        "import numpy as np\r\n",
        "x = np.array([[1, 2], [3, 4.]])\r\n",
        "\r\n",
        "# Convert the numpy array to a torch tensor.\r\n",
        "y = torch.from_numpy(x)\r\n",
        "y\r\n",
        "\r\n",
        "x.dtype, y.dtype"
      ],
      "execution_count": 10,
      "outputs": [
        {
          "output_type": "execute_result",
          "data": {
            "text/plain": [
              "(dtype('float64'), torch.float64)"
            ]
          },
          "metadata": {
            "tags": []
          },
          "execution_count": 10
        }
      ]
    },
    {
      "cell_type": "markdown",
      "metadata": {
        "id": "VHc6bvxU0ZjM"
      },
      "source": [
        "From torch to numpy\r\n"
      ]
    },
    {
      "cell_type": "code",
      "metadata": {
        "colab": {
          "base_uri": "https://localhost:8080/"
        },
        "id": "EkBeMzWA0fbL",
        "outputId": "65bd3638-0056-43fa-e664-c6e66d304274"
      },
      "source": [
        "# Convert a torch tensor to a numpy array\r\n",
        "z = y.numpy()\r\n",
        "z"
      ],
      "execution_count": 11,
      "outputs": [
        {
          "output_type": "execute_result",
          "data": {
            "text/plain": [
              "array([[1., 2.],\n",
              "       [3., 4.]])"
            ]
          },
          "metadata": {
            "tags": []
          },
          "execution_count": 11
        }
      ]
    }
  ]
}